{
  "nbformat": 4,
  "nbformat_minor": 0,
  "metadata": {
    "colab": {
      "name": "herpes_resistance_nlp_journal_clustering.ipynb",
      "provenance": [],
      "collapsed_sections": [],
      "authorship_tag": "ABX9TyOyExSJ6LP43awxcVphw9X5",
      "include_colab_link": true
    },
    "kernelspec": {
      "name": "python3",
      "display_name": "Python 3"
    },
    "language_info": {
      "name": "python"
    }
  },
  "cells": [
    {
      "cell_type": "markdown",
      "metadata": {
        "id": "view-in-github",
        "colab_type": "text"
      },
      "source": [
        "<a href=\"https://colab.research.google.com/github/ojcharles/notebooks/blob/main/herpes_resistance_nlp_journal_clustering.ipynb\" target=\"_parent\"><img src=\"https://colab.research.google.com/assets/colab-badge.svg\" alt=\"Open In Colab\"/></a>"
      ]
    },
    {
      "cell_type": "markdown",
      "source": [
        "# Herpes Drug Resistance Literature Clustering by NLP"
      ],
      "metadata": {
        "id": "2sgPmlxLjD8-"
      }
    },
    {
      "cell_type": "markdown",
      "source": [
        "Oscar Charles 2021\n",
        "\n",
        "This is a notebook that clusters journals, and can help you find similar papers to those you already know are important.\n",
        "\n",
        "What you need:\n",
        "\n",
        "\n",
        "*   A pubmed query. Example included\n",
        "*   A list of DOI's for papers you already care about. Example included\n",
        "\n",
        "\n",
        "\n",
        "Question: Can we use Natural Language processing to take a set of abstracts (strings) -> tokens -> vectorisation -> clustering of abstracts by similarity? We have a set of papers we want to cluster close together, can we get them too such that we can find similar papers we may have missed?\n",
        "\n"
      ],
      "metadata": {
        "id": "tiC3y-Hlb0dv"
      }
    },
    {
      "cell_type": "code",
      "source": [
        "# install all the python stuff I need\n",
        "# get the requirements file\n",
        "!wget https://raw.githubusercontent.com/ojcharles/snippets/main/nlp_lit_clustering_requirements.txt\n",
        "\n",
        "# install the packages\n",
        "!pip install -r nlp_lit_clustering_requirements.txt\n",
        "\n",
        "# install the spacy model\n",
        "# A full spaCy pipeline for biomedical data with a larger vocabulary and 50k word vectors.\n",
        "! python -m pip install https://s3-us-west-2.amazonaws.com/ai2-s2-scispacy/releases/v0.5.0/en_core_sci_md-0.5.0.tar.gz"
      ],
      "metadata": {
        "id": "xku-ZsHYc1Rr",
        "colab": {
          "base_uri": "https://localhost:8080/"
        },
        "outputId": "996237e2-4887-409f-fd57-835f123ecee9"
      },
      "execution_count": 18,
      "outputs": [
        {
          "output_type": "stream",
          "name": "stdout",
          "text": [
            "--2022-06-11 11:25:05--  https://raw.githubusercontent.com/ojcharles/snippets/main/nlp_lit_clustering_requirements.txt\n",
            "Resolving raw.githubusercontent.com (raw.githubusercontent.com)... 185.199.108.133, 185.199.109.133, 185.199.110.133, ...\n",
            "Connecting to raw.githubusercontent.com (raw.githubusercontent.com)|185.199.108.133|:443... connected.\n",
            "HTTP request sent, awaiting response... 200 OK\n",
            "Length: 561 [text/plain]\n",
            "Saving to: ‘nlp_lit_clustering_requirements.txt.1’\n",
            "\n",
            "\r          nlp_lit_c   0%[                    ]       0  --.-KB/s               \rnlp_lit_clustering_ 100%[===================>]     561  --.-KB/s    in 0s      \n",
            "\n",
            "2022-06-11 11:25:05 (35.0 MB/s) - ‘nlp_lit_clustering_requirements.txt.1’ saved [561/561]\n",
            "\n",
            "Looking in indexes: https://pypi.org/simple, https://us-python.pkg.dev/colab-wheels/public/simple/\n",
            "Collecting en-core-web-sm@ https://github.com/explosion/spacy-models/releases/download/en_core_web_sm-3.2.0/en_core_web_sm-3.2.0-py3-none-any.whl\n",
            "  Downloading https://github.com/explosion/spacy-models/releases/download/en_core_web_sm-3.2.0/en_core_web_sm-3.2.0-py3-none-any.whl (13.9 MB)\n",
            "\u001b[K     |████████████████████████████████| 13.9 MB 5.4 MB/s \n",
            "\u001b[?25hRequirement already satisfied: jedi==0.18.1 in /usr/local/lib/python3.7/dist-packages (from -r nlp_lit_clustering_requirements.txt (line 2)) (0.18.1)\n",
            "Requirement already satisfied: matplotlib==3.5.1 in /usr/local/lib/python3.7/dist-packages (from -r nlp_lit_clustering_requirements.txt (line 3)) (3.5.1)\n",
            "Requirement already satisfied: matplotlib-inline==0.1.3 in /usr/local/lib/python3.7/dist-packages (from -r nlp_lit_clustering_requirements.txt (line 4)) (0.1.3)\n",
            "Requirement already satisfied: numpy in /usr/local/lib/python3.7/dist-packages (from -r nlp_lit_clustering_requirements.txt (line 5)) (1.21.6)\n",
            "Requirement already satisfied: oauthlib==3.1.1 in /usr/local/lib/python3.7/dist-packages (from -r nlp_lit_clustering_requirements.txt (line 6)) (3.1.1)\n",
            "Requirement already satisfied: packaging==21.3 in /usr/local/lib/python3.7/dist-packages (from -r nlp_lit_clustering_requirements.txt (line 7)) (21.3)\n",
            "Requirement already satisfied: pandas==1.3.5 in /usr/local/lib/python3.7/dist-packages (from -r nlp_lit_clustering_requirements.txt (line 8)) (1.3.5)\n",
            "Requirement already satisfied: pathy==0.6.1 in /usr/local/lib/python3.7/dist-packages (from -r nlp_lit_clustering_requirements.txt (line 9)) (0.6.1)\n",
            "Requirement already satisfied: pickleshare==0.7.5 in /usr/local/lib/python3.7/dist-packages (from -r nlp_lit_clustering_requirements.txt (line 10)) (0.7.5)\n",
            "Requirement already satisfied: python-dateutil==2.8.2 in /usr/local/lib/python3.7/dist-packages (from -r nlp_lit_clustering_requirements.txt (line 11)) (2.8.2)\n",
            "Requirement already satisfied: python-json-logger==2.0.2 in /usr/local/lib/python3.7/dist-packages (from -r nlp_lit_clustering_requirements.txt (line 12)) (2.0.2)\n",
            "Requirement already satisfied: PyYAML==6.0 in /usr/local/lib/python3.7/dist-packages (from -r nlp_lit_clustering_requirements.txt (line 13)) (6.0)\n",
            "Requirement already satisfied: regex==2021.11.10 in /usr/local/lib/python3.7/dist-packages (from -r nlp_lit_clustering_requirements.txt (line 14)) (2021.11.10)\n",
            "Requirement already satisfied: scikit-learn==1.0.2 in /usr/local/lib/python3.7/dist-packages (from -r nlp_lit_clustering_requirements.txt (line 15)) (1.0.2)\n",
            "Requirement already satisfied: scipy==1.7.3 in /usr/local/lib/python3.7/dist-packages (from -r nlp_lit_clustering_requirements.txt (line 16)) (1.7.3)\n",
            "Requirement already satisfied: seaborn==0.11.2 in /usr/local/lib/python3.7/dist-packages (from -r nlp_lit_clustering_requirements.txt (line 17)) (0.11.2)\n",
            "Requirement already satisfied: sklearn==0.0 in /usr/local/lib/python3.7/dist-packages (from -r nlp_lit_clustering_requirements.txt (line 18)) (0.0)\n",
            "Collecting spacy==3.2.1\n",
            "  Using cached spacy-3.2.1-cp37-cp37m-manylinux_2_17_x86_64.manylinux2014_x86_64.whl (6.0 MB)\n",
            "Requirement already satisfied: spacy-legacy==3.0.8 in /usr/local/lib/python3.7/dist-packages (from -r nlp_lit_clustering_requirements.txt (line 20)) (3.0.8)\n",
            "Requirement already satisfied: spacy-loggers==1.0.1 in /usr/local/lib/python3.7/dist-packages (from -r nlp_lit_clustering_requirements.txt (line 21)) (1.0.1)\n",
            "Requirement already satisfied: wasabi==0.9.0 in /usr/local/lib/python3.7/dist-packages (from -r nlp_lit_clustering_requirements.txt (line 22)) (0.9.0)\n",
            "Requirement already satisfied: webencodings==0.5.1 in /usr/local/lib/python3.7/dist-packages (from -r nlp_lit_clustering_requirements.txt (line 23)) (0.5.1)\n",
            "Requirement already satisfied: websocket-client==1.2.3 in /usr/local/lib/python3.7/dist-packages (from -r nlp_lit_clustering_requirements.txt (line 24)) (1.2.3)\n",
            "Requirement already satisfied: xml-python in /usr/local/lib/python3.7/dist-packages (from -r nlp_lit_clustering_requirements.txt (line 25)) (0.4.3)\n",
            "Requirement already satisfied: bokeh in /usr/local/lib/python3.7/dist-packages (from -r nlp_lit_clustering_requirements.txt (line 26)) (2.3.3)\n",
            "Requirement already satisfied: torch in /usr/local/lib/python3.7/dist-packages (from -r nlp_lit_clustering_requirements.txt (line 27)) (1.11.0+cu113)\n",
            "Requirement already satisfied: scispacy in /usr/local/lib/python3.7/dist-packages (from -r nlp_lit_clustering_requirements.txt (line 28)) (0.5.0)\n",
            "Requirement already satisfied: lxml in /usr/local/lib/python3.7/dist-packages (from -r nlp_lit_clustering_requirements.txt (line 29)) (4.2.6)\n",
            "Requirement already satisfied: parso<0.9.0,>=0.8.0 in /usr/local/lib/python3.7/dist-packages (from jedi==0.18.1->-r nlp_lit_clustering_requirements.txt (line 2)) (0.8.3)\n",
            "Requirement already satisfied: cycler>=0.10 in /usr/local/lib/python3.7/dist-packages (from matplotlib==3.5.1->-r nlp_lit_clustering_requirements.txt (line 3)) (0.11.0)\n",
            "Requirement already satisfied: fonttools>=4.22.0 in /usr/local/lib/python3.7/dist-packages (from matplotlib==3.5.1->-r nlp_lit_clustering_requirements.txt (line 3)) (4.33.3)\n",
            "Requirement already satisfied: pyparsing>=2.2.1 in /usr/local/lib/python3.7/dist-packages (from matplotlib==3.5.1->-r nlp_lit_clustering_requirements.txt (line 3)) (3.0.9)\n",
            "Requirement already satisfied: pillow>=6.2.0 in /usr/local/lib/python3.7/dist-packages (from matplotlib==3.5.1->-r nlp_lit_clustering_requirements.txt (line 3)) (7.1.2)\n",
            "Requirement already satisfied: kiwisolver>=1.0.1 in /usr/local/lib/python3.7/dist-packages (from matplotlib==3.5.1->-r nlp_lit_clustering_requirements.txt (line 3)) (1.4.2)\n",
            "Requirement already satisfied: traitlets in /usr/local/lib/python3.7/dist-packages (from matplotlib-inline==0.1.3->-r nlp_lit_clustering_requirements.txt (line 4)) (5.1.1)\n",
            "Requirement already satisfied: pytz>=2017.3 in /usr/local/lib/python3.7/dist-packages (from pandas==1.3.5->-r nlp_lit_clustering_requirements.txt (line 8)) (2022.1)\n",
            "Requirement already satisfied: smart-open<6.0.0,>=5.0.0 in /usr/local/lib/python3.7/dist-packages (from pathy==0.6.1->-r nlp_lit_clustering_requirements.txt (line 9)) (5.2.1)\n",
            "Requirement already satisfied: typer<1.0.0,>=0.3.0 in /usr/local/lib/python3.7/dist-packages (from pathy==0.6.1->-r nlp_lit_clustering_requirements.txt (line 9)) (0.4.1)\n",
            "Requirement already satisfied: six>=1.5 in /usr/local/lib/python3.7/dist-packages (from python-dateutil==2.8.2->-r nlp_lit_clustering_requirements.txt (line 11)) (1.15.0)\n",
            "Requirement already satisfied: joblib>=0.11 in /usr/local/lib/python3.7/dist-packages (from scikit-learn==1.0.2->-r nlp_lit_clustering_requirements.txt (line 15)) (1.1.0)\n",
            "Requirement already satisfied: threadpoolctl>=2.0.0 in /usr/local/lib/python3.7/dist-packages (from scikit-learn==1.0.2->-r nlp_lit_clustering_requirements.txt (line 15)) (3.1.0)\n",
            "Requirement already satisfied: blis<0.8.0,>=0.4.0 in /usr/local/lib/python3.7/dist-packages (from spacy==3.2.1->-r nlp_lit_clustering_requirements.txt (line 19)) (0.4.1)\n",
            "Requirement already satisfied: pydantic!=1.8,!=1.8.1,<1.9.0,>=1.7.4 in /usr/local/lib/python3.7/dist-packages (from spacy==3.2.1->-r nlp_lit_clustering_requirements.txt (line 19)) (1.8.2)\n",
            "Requirement already satisfied: thinc<8.1.0,>=8.0.12 in /usr/local/lib/python3.7/dist-packages (from spacy==3.2.1->-r nlp_lit_clustering_requirements.txt (line 19)) (8.0.17)\n",
            "Requirement already satisfied: cymem<2.1.0,>=2.0.2 in /usr/local/lib/python3.7/dist-packages (from spacy==3.2.1->-r nlp_lit_clustering_requirements.txt (line 19)) (2.0.6)\n",
            "Requirement already satisfied: catalogue<2.1.0,>=2.0.6 in /usr/local/lib/python3.7/dist-packages (from spacy==3.2.1->-r nlp_lit_clustering_requirements.txt (line 19)) (2.0.7)\n",
            "Requirement already satisfied: srsly<3.0.0,>=2.4.1 in /usr/local/lib/python3.7/dist-packages (from spacy==3.2.1->-r nlp_lit_clustering_requirements.txt (line 19)) (2.4.3)\n",
            "Requirement already satisfied: requests<3.0.0,>=2.13.0 in /usr/local/lib/python3.7/dist-packages (from spacy==3.2.1->-r nlp_lit_clustering_requirements.txt (line 19)) (2.23.0)\n",
            "Requirement already satisfied: preshed<3.1.0,>=3.0.2 in /usr/local/lib/python3.7/dist-packages (from spacy==3.2.1->-r nlp_lit_clustering_requirements.txt (line 19)) (3.0.6)\n",
            "Requirement already satisfied: langcodes<4.0.0,>=3.2.0 in /usr/local/lib/python3.7/dist-packages (from spacy==3.2.1->-r nlp_lit_clustering_requirements.txt (line 19)) (3.3.0)\n",
            "Requirement already satisfied: tqdm<5.0.0,>=4.38.0 in /usr/local/lib/python3.7/dist-packages (from spacy==3.2.1->-r nlp_lit_clustering_requirements.txt (line 19)) (4.64.0)\n",
            "Requirement already satisfied: murmurhash<1.1.0,>=0.28.0 in /usr/local/lib/python3.7/dist-packages (from spacy==3.2.1->-r nlp_lit_clustering_requirements.txt (line 19)) (1.0.7)\n",
            "Requirement already satisfied: setuptools in /usr/local/lib/python3.7/dist-packages (from spacy==3.2.1->-r nlp_lit_clustering_requirements.txt (line 19)) (57.4.0)\n",
            "Requirement already satisfied: typing-extensions<4.0.0.0,>=3.7.4 in /usr/local/lib/python3.7/dist-packages (from spacy==3.2.1->-r nlp_lit_clustering_requirements.txt (line 19)) (3.10.0.2)\n",
            "Requirement already satisfied: jinja2 in /usr/local/lib/python3.7/dist-packages (from spacy==3.2.1->-r nlp_lit_clustering_requirements.txt (line 19)) (2.11.3)\n",
            "Requirement already satisfied: zipp>=0.5 in /usr/local/lib/python3.7/dist-packages (from catalogue<2.1.0,>=2.0.6->spacy==3.2.1->-r nlp_lit_clustering_requirements.txt (line 19)) (3.8.0)\n",
            "Requirement already satisfied: certifi>=2017.4.17 in /usr/local/lib/python3.7/dist-packages (from requests<3.0.0,>=2.13.0->spacy==3.2.1->-r nlp_lit_clustering_requirements.txt (line 19)) (2022.5.18.1)\n",
            "Requirement already satisfied: urllib3!=1.25.0,!=1.25.1,<1.26,>=1.21.1 in /usr/local/lib/python3.7/dist-packages (from requests<3.0.0,>=2.13.0->spacy==3.2.1->-r nlp_lit_clustering_requirements.txt (line 19)) (1.24.3)\n",
            "Requirement already satisfied: chardet<4,>=3.0.2 in /usr/local/lib/python3.7/dist-packages (from requests<3.0.0,>=2.13.0->spacy==3.2.1->-r nlp_lit_clustering_requirements.txt (line 19)) (3.0.4)\n",
            "Requirement already satisfied: idna<3,>=2.5 in /usr/local/lib/python3.7/dist-packages (from requests<3.0.0,>=2.13.0->spacy==3.2.1->-r nlp_lit_clustering_requirements.txt (line 19)) (2.10)\n",
            "Requirement already satisfied: click<9.0.0,>=7.1.1 in /usr/local/lib/python3.7/dist-packages (from typer<1.0.0,>=0.3.0->pathy==0.6.1->-r nlp_lit_clustering_requirements.txt (line 9)) (7.1.2)\n",
            "Requirement already satisfied: attrs in /usr/local/lib/python3.7/dist-packages (from xml-python->-r nlp_lit_clustering_requirements.txt (line 25)) (21.4.0)\n",
            "Requirement already satisfied: tornado>=5.1 in /usr/local/lib/python3.7/dist-packages (from bokeh->-r nlp_lit_clustering_requirements.txt (line 26)) (5.1.1)\n",
            "Requirement already satisfied: MarkupSafe>=0.23 in /usr/local/lib/python3.7/dist-packages (from jinja2->spacy==3.2.1->-r nlp_lit_clustering_requirements.txt (line 19)) (2.0.1)\n",
            "Requirement already satisfied: conllu in /usr/local/lib/python3.7/dist-packages (from scispacy->-r nlp_lit_clustering_requirements.txt (line 28)) (4.4.2)\n",
            "Requirement already satisfied: pysbd in /usr/local/lib/python3.7/dist-packages (from scispacy->-r nlp_lit_clustering_requirements.txt (line 28)) (0.3.4)\n",
            "Requirement already satisfied: nmslib>=1.7.3.6 in /usr/local/lib/python3.7/dist-packages (from scispacy->-r nlp_lit_clustering_requirements.txt (line 28)) (2.1.1)\n",
            "Requirement already satisfied: psutil in /usr/local/lib/python3.7/dist-packages (from nmslib>=1.7.3.6->scispacy->-r nlp_lit_clustering_requirements.txt (line 28)) (5.4.8)\n",
            "Requirement already satisfied: pybind11<2.6.2 in /usr/local/lib/python3.7/dist-packages (from nmslib>=1.7.3.6->scispacy->-r nlp_lit_clustering_requirements.txt (line 28)) (2.6.1)\n",
            "Installing collected packages: spacy\n",
            "  Attempting uninstall: spacy\n",
            "    Found existing installation: spacy 3.2.4\n",
            "    Uninstalling spacy-3.2.4:\n",
            "      Successfully uninstalled spacy-3.2.4\n",
            "\u001b[31mERROR: pip's dependency resolver does not currently take into account all the packages that are installed. This behaviour is the source of the following dependency conflicts.\n",
            "en-core-sci-md 0.5.0 requires spacy<3.3.0,>=3.2.3, but you have spacy 3.2.1 which is incompatible.\u001b[0m\n",
            "Successfully installed spacy-3.2.1\n",
            "Looking in indexes: https://pypi.org/simple, https://us-python.pkg.dev/colab-wheels/public/simple/\n",
            "Collecting https://s3-us-west-2.amazonaws.com/ai2-s2-scispacy/releases/v0.5.0/en_core_sci_md-0.5.0.tar.gz\n",
            "  Using cached https://s3-us-west-2.amazonaws.com/ai2-s2-scispacy/releases/v0.5.0/en_core_sci_md-0.5.0.tar.gz (120.2 MB)\n",
            "Collecting spacy<3.3.0,>=3.2.3\n",
            "  Using cached spacy-3.2.4-cp37-cp37m-manylinux_2_17_x86_64.manylinux2014_x86_64.whl (6.0 MB)\n",
            "Requirement already satisfied: pydantic!=1.8,!=1.8.1,<1.9.0,>=1.7.4 in /usr/local/lib/python3.7/dist-packages (from spacy<3.3.0,>=3.2.3->en-core-sci-md==0.5.0) (1.8.2)\n",
            "Requirement already satisfied: setuptools in /usr/local/lib/python3.7/dist-packages (from spacy<3.3.0,>=3.2.3->en-core-sci-md==0.5.0) (57.4.0)\n",
            "Requirement already satisfied: pathy>=0.3.5 in /usr/local/lib/python3.7/dist-packages (from spacy<3.3.0,>=3.2.3->en-core-sci-md==0.5.0) (0.6.1)\n",
            "Requirement already satisfied: packaging>=20.0 in /usr/local/lib/python3.7/dist-packages (from spacy<3.3.0,>=3.2.3->en-core-sci-md==0.5.0) (21.3)\n",
            "Requirement already satisfied: jinja2 in /usr/local/lib/python3.7/dist-packages (from spacy<3.3.0,>=3.2.3->en-core-sci-md==0.5.0) (2.11.3)\n",
            "Requirement already satisfied: wasabi<1.1.0,>=0.8.1 in /usr/local/lib/python3.7/dist-packages (from spacy<3.3.0,>=3.2.3->en-core-sci-md==0.5.0) (0.9.0)\n",
            "Requirement already satisfied: cymem<2.1.0,>=2.0.2 in /usr/local/lib/python3.7/dist-packages (from spacy<3.3.0,>=3.2.3->en-core-sci-md==0.5.0) (2.0.6)\n",
            "Requirement already satisfied: thinc<8.1.0,>=8.0.12 in /usr/local/lib/python3.7/dist-packages (from spacy<3.3.0,>=3.2.3->en-core-sci-md==0.5.0) (8.0.17)\n",
            "Requirement already satisfied: requests<3.0.0,>=2.13.0 in /usr/local/lib/python3.7/dist-packages (from spacy<3.3.0,>=3.2.3->en-core-sci-md==0.5.0) (2.23.0)\n",
            "Requirement already satisfied: blis<0.8.0,>=0.4.0 in /usr/local/lib/python3.7/dist-packages (from spacy<3.3.0,>=3.2.3->en-core-sci-md==0.5.0) (0.4.1)\n",
            "Requirement already satisfied: catalogue<2.1.0,>=2.0.6 in /usr/local/lib/python3.7/dist-packages (from spacy<3.3.0,>=3.2.3->en-core-sci-md==0.5.0) (2.0.7)\n",
            "Requirement already satisfied: murmurhash<1.1.0,>=0.28.0 in /usr/local/lib/python3.7/dist-packages (from spacy<3.3.0,>=3.2.3->en-core-sci-md==0.5.0) (1.0.7)\n",
            "Requirement already satisfied: tqdm<5.0.0,>=4.38.0 in /usr/local/lib/python3.7/dist-packages (from spacy<3.3.0,>=3.2.3->en-core-sci-md==0.5.0) (4.64.0)\n",
            "Requirement already satisfied: spacy-loggers<2.0.0,>=1.0.0 in /usr/local/lib/python3.7/dist-packages (from spacy<3.3.0,>=3.2.3->en-core-sci-md==0.5.0) (1.0.1)\n",
            "Requirement already satisfied: preshed<3.1.0,>=3.0.2 in /usr/local/lib/python3.7/dist-packages (from spacy<3.3.0,>=3.2.3->en-core-sci-md==0.5.0) (3.0.6)\n",
            "Requirement already satisfied: srsly<3.0.0,>=2.4.1 in /usr/local/lib/python3.7/dist-packages (from spacy<3.3.0,>=3.2.3->en-core-sci-md==0.5.0) (2.4.3)\n",
            "Requirement already satisfied: numpy>=1.15.0 in /usr/local/lib/python3.7/dist-packages (from spacy<3.3.0,>=3.2.3->en-core-sci-md==0.5.0) (1.21.6)\n",
            "Requirement already satisfied: langcodes<4.0.0,>=3.2.0 in /usr/local/lib/python3.7/dist-packages (from spacy<3.3.0,>=3.2.3->en-core-sci-md==0.5.0) (3.3.0)\n",
            "Requirement already satisfied: spacy-legacy<3.1.0,>=3.0.8 in /usr/local/lib/python3.7/dist-packages (from spacy<3.3.0,>=3.2.3->en-core-sci-md==0.5.0) (3.0.8)\n",
            "Requirement already satisfied: click<8.1.0 in /usr/local/lib/python3.7/dist-packages (from spacy<3.3.0,>=3.2.3->en-core-sci-md==0.5.0) (7.1.2)\n",
            "Requirement already satisfied: typing-extensions<4.0.0.0,>=3.7.4 in /usr/local/lib/python3.7/dist-packages (from spacy<3.3.0,>=3.2.3->en-core-sci-md==0.5.0) (3.10.0.2)\n",
            "Requirement already satisfied: typer<0.5.0,>=0.3.0 in /usr/local/lib/python3.7/dist-packages (from spacy<3.3.0,>=3.2.3->en-core-sci-md==0.5.0) (0.4.1)\n",
            "Requirement already satisfied: zipp>=0.5 in /usr/local/lib/python3.7/dist-packages (from catalogue<2.1.0,>=2.0.6->spacy<3.3.0,>=3.2.3->en-core-sci-md==0.5.0) (3.8.0)\n",
            "Requirement already satisfied: pyparsing!=3.0.5,>=2.0.2 in /usr/local/lib/python3.7/dist-packages (from packaging>=20.0->spacy<3.3.0,>=3.2.3->en-core-sci-md==0.5.0) (3.0.9)\n",
            "Requirement already satisfied: smart-open<6.0.0,>=5.0.0 in /usr/local/lib/python3.7/dist-packages (from pathy>=0.3.5->spacy<3.3.0,>=3.2.3->en-core-sci-md==0.5.0) (5.2.1)\n",
            "Requirement already satisfied: urllib3!=1.25.0,!=1.25.1,<1.26,>=1.21.1 in /usr/local/lib/python3.7/dist-packages (from requests<3.0.0,>=2.13.0->spacy<3.3.0,>=3.2.3->en-core-sci-md==0.5.0) (1.24.3)\n",
            "Requirement already satisfied: chardet<4,>=3.0.2 in /usr/local/lib/python3.7/dist-packages (from requests<3.0.0,>=2.13.0->spacy<3.3.0,>=3.2.3->en-core-sci-md==0.5.0) (3.0.4)\n",
            "Requirement already satisfied: idna<3,>=2.5 in /usr/local/lib/python3.7/dist-packages (from requests<3.0.0,>=2.13.0->spacy<3.3.0,>=3.2.3->en-core-sci-md==0.5.0) (2.10)\n",
            "Requirement already satisfied: certifi>=2017.4.17 in /usr/local/lib/python3.7/dist-packages (from requests<3.0.0,>=2.13.0->spacy<3.3.0,>=3.2.3->en-core-sci-md==0.5.0) (2022.5.18.1)\n",
            "Requirement already satisfied: MarkupSafe>=0.23 in /usr/local/lib/python3.7/dist-packages (from jinja2->spacy<3.3.0,>=3.2.3->en-core-sci-md==0.5.0) (2.0.1)\n",
            "Installing collected packages: spacy\n",
            "  Attempting uninstall: spacy\n",
            "    Found existing installation: spacy 3.2.1\n",
            "    Uninstalling spacy-3.2.1:\n",
            "      Successfully uninstalled spacy-3.2.1\n",
            "Successfully installed spacy-3.2.4\n"
          ]
        }
      ]
    },
    {
      "cell_type": "code",
      "source": [
        "# also install EDirect for pubmed APi calls\n",
        "!  yes | sh -c \"$(curl -fsSL ftp://ftp.ncbi.nlm.nih.gov/entrez/entrezdirect/install-edirect.sh)\""
      ],
      "metadata": {
        "colab": {
          "base_uri": "https://localhost:8080/"
        },
        "id": "k2oCkhY6jjxR",
        "outputId": "5454723c-3f63-4ce0-f53a-73348d3e5cd3"
      },
      "execution_count": 19,
      "outputs": [
        {
          "output_type": "stream",
          "name": "stdout",
          "text": [
            "\n",
            "Entrez Direct has been successfully downloaded and installed.\n",
            "\n",
            "\n",
            "To activate EDirect for this terminal session, please execute the following:\n",
            "\n",
            "export PATH=${PATH}:${HOME}/edirect\n",
            "\n"
          ]
        }
      ]
    },
    {
      "cell_type": "markdown",
      "source": [
        "Getting paper data from Pubmed and parseing the json"
      ],
      "metadata": {
        "id": "ivvImRzTi6iZ"
      }
    },
    {
      "cell_type": "code",
      "source": [
        "import numpy as np # linear algebra\n",
        "import pandas as pd # data processing, CSV file I/O (e.g. pd.read_csv)\n",
        "import xml.etree.ElementTree as ET\n",
        "from lxml import etree\n",
        "import bokeh"
      ],
      "metadata": {
        "id": "kXIpz_I5i6tq"
      },
      "execution_count": 24,
      "outputs": []
    },
    {
      "cell_type": "code",
      "source": [
        "# pubmed has all papers, epmc only those that are openly accessible.\n",
        "\n",
        "# Conduct a PubMed search and retrieve the results as a list of PMIDs\n",
        "! ${HOME}/edirect/esearch -db pubmed -query \"((resistance)) AND ((ribavirin) OR (favipiravir) OR (remdesivir) OR (EIDD-2801) OR (molnupiravir)) \"   | ${HOME}/edirect/efetch -format uid > pubmed.txt\n",
        "\n",
        "# how many entries?\n",
        "! wc -l pubmed.txt \n",
        "\n",
        "# take those identified pubmed ids of interest and \n",
        "! ${HOME}/edirect/efetch -db pubmed -input pubmed.txt -format xml > pubmed.xml\n",
        "\n",
        "# sanity check\n",
        "! head -5 pubmed.xml"
      ],
      "metadata": {
        "colab": {
          "base_uri": "https://localhost:8080/"
        },
        "id": "huJ1CUBWi5Et",
        "outputId": "fbcabfde-58da-4539-ebea-b26a8e82acf9"
      },
      "execution_count": 21,
      "outputs": [
        {
          "output_type": "stream",
          "name": "stdout",
          "text": [
            "1821 pubmed.txt\n",
            "<?xml version=\"1.0\" encoding=\"UTF-8\" ?>\n",
            "<!DOCTYPE PubmedArticleSet>\n",
            "<PubmedArticleSet>\n",
            "  <PubmedArticle>\n",
            "    <MedlineCitation Status=\"MEDLINE\" IndexingMethod=\"Curated\" Owner=\"NLM\">\n"
          ]
        }
      ]
    },
    {
      "cell_type": "code",
      "source": [
        "! sed -n 54814p pubmed.xml\n"
      ],
      "metadata": {
        "id": "Vsb7OY_davSu",
        "outputId": "24383223-c241-4d49-f8be-dec73cd638eb",
        "colab": {
          "base_uri": "https://localhost:8080/"
        }
      },
      "execution_count": 22,
      "outputs": [
        {
          "output_type": "stream",
          "name": "stdout",
          "text": [
            "        <ArticleTitle>Most Promising Compounds for Treating COVID-19 and Recent Trends in Antimicrobial & Antifungal Agents.</ArticleTitle>\n"
          ]
        }
      ]
    },
    {
      "cell_type": "code",
      "source": [
        "# parse xml\n",
        "parser = etree.XMLParser(recover=True) # this nicely handles any xml formatting issues\n",
        "dict_ = {'doi': [], 'title': [], 'abstract':[]}\n",
        "\n",
        "tree = ET.parse('pubmed.xml', parser) # download from a search in epmc\n",
        "root = tree.getroot()\n",
        "\n",
        "search_doi = 'PubmedData/ArticleIdList/ArticleId[@IdType=\"doi\"]'\n",
        "search_title = 'MedlineCitation/Article/ArticleTitle'\n",
        "search_abstract = 'MedlineCitation/Article/Abstract/AbstractText'\n",
        "\n",
        "for entry in root.iter('PubmedArticle'):\n",
        "    if entry.find(search_doi) is None:\n",
        "        continue\n",
        "    else:\n",
        "        doi = entry.find(search_doi).text\n",
        "        \n",
        "    if entry.find(search_title) is None:\n",
        "        continue\n",
        "    else:\n",
        "        title = entry.find(search_title).text\n",
        "        \n",
        "    if entry.find(search_abstract) is None:\n",
        "        continue\n",
        "    else:\n",
        "        abstractText = entry.find(search_abstract).text\n",
        "    #print(doi, title)\n",
        "    dict_['doi'].append(doi)\n",
        "    dict_['title'].append(title)\n",
        "    dict_['abstract'].append(abstractText)\n"
      ],
      "metadata": {
        "id": "bHEg2y7UlOdx"
      },
      "execution_count": 26,
      "outputs": []
    },
    {
      "cell_type": "code",
      "source": [
        "# format the dict to a table\n",
        "df = pd.DataFrame(dict_, columns=['doi', 'title','abstract'])\n",
        "df.head()"
      ],
      "metadata": {
        "id": "jXU22MWdlQE5",
        "colab": {
          "base_uri": "https://localhost:8080/",
          "height": 206
        },
        "outputId": "571ef185-16a4-4da2-ebd9-c88fe25c0433"
      },
      "execution_count": 27,
      "outputs": [
        {
          "output_type": "execute_result",
          "data": {
            "text/plain": [
              "                          doi  \\\n",
              "0  10.1016/j.jphs.2022.04.010   \n",
              "1        10.1093/omcr/omac049   \n",
              "2  10.1007/s10529-022-03259-6   \n",
              "3      10.3892/etm.2022.11350   \n",
              "4      10.4254/wjh.v14.i3.482   \n",
              "\n",
              "                                               title  \\\n",
              "0  SARS-CoV-2 induces barrier damage and inflamma...   \n",
              "1  DAA treatment failures in a low-resource setti...   \n",
              "2  A novel property of hexokinase inhibition by F...   \n",
              "3  COVID-19: Main findings after a year and half ...   \n",
              "4      Hepatitis E in immunocompromised individuals.   \n",
              "\n",
              "                                            abstract  \n",
              "0  Coronavirus disease 2019 (COVID-19), caused by...  \n",
              "1  Globally, 58 million people are living with he...  \n",
              "2  In the wake of SARS-CoV-2's global spread, hum...  \n",
              "3  Since the emergence of the disease in late Dec...  \n",
              "4  Hepatitis E virus (HEV) originally identified ...  "
            ],
            "text/html": [
              "\n",
              "  <div id=\"df-9943b4bb-5872-4d49-a6af-b984c4b0d5ad\">\n",
              "    <div class=\"colab-df-container\">\n",
              "      <div>\n",
              "<style scoped>\n",
              "    .dataframe tbody tr th:only-of-type {\n",
              "        vertical-align: middle;\n",
              "    }\n",
              "\n",
              "    .dataframe tbody tr th {\n",
              "        vertical-align: top;\n",
              "    }\n",
              "\n",
              "    .dataframe thead th {\n",
              "        text-align: right;\n",
              "    }\n",
              "</style>\n",
              "<table border=\"1\" class=\"dataframe\">\n",
              "  <thead>\n",
              "    <tr style=\"text-align: right;\">\n",
              "      <th></th>\n",
              "      <th>doi</th>\n",
              "      <th>title</th>\n",
              "      <th>abstract</th>\n",
              "    </tr>\n",
              "  </thead>\n",
              "  <tbody>\n",
              "    <tr>\n",
              "      <th>0</th>\n",
              "      <td>10.1016/j.jphs.2022.04.010</td>\n",
              "      <td>SARS-CoV-2 induces barrier damage and inflamma...</td>\n",
              "      <td>Coronavirus disease 2019 (COVID-19), caused by...</td>\n",
              "    </tr>\n",
              "    <tr>\n",
              "      <th>1</th>\n",
              "      <td>10.1093/omcr/omac049</td>\n",
              "      <td>DAA treatment failures in a low-resource setti...</td>\n",
              "      <td>Globally, 58 million people are living with he...</td>\n",
              "    </tr>\n",
              "    <tr>\n",
              "      <th>2</th>\n",
              "      <td>10.1007/s10529-022-03259-6</td>\n",
              "      <td>A novel property of hexokinase inhibition by F...</td>\n",
              "      <td>In the wake of SARS-CoV-2's global spread, hum...</td>\n",
              "    </tr>\n",
              "    <tr>\n",
              "      <th>3</th>\n",
              "      <td>10.3892/etm.2022.11350</td>\n",
              "      <td>COVID-19: Main findings after a year and half ...</td>\n",
              "      <td>Since the emergence of the disease in late Dec...</td>\n",
              "    </tr>\n",
              "    <tr>\n",
              "      <th>4</th>\n",
              "      <td>10.4254/wjh.v14.i3.482</td>\n",
              "      <td>Hepatitis E in immunocompromised individuals.</td>\n",
              "      <td>Hepatitis E virus (HEV) originally identified ...</td>\n",
              "    </tr>\n",
              "  </tbody>\n",
              "</table>\n",
              "</div>\n",
              "      <button class=\"colab-df-convert\" onclick=\"convertToInteractive('df-9943b4bb-5872-4d49-a6af-b984c4b0d5ad')\"\n",
              "              title=\"Convert this dataframe to an interactive table.\"\n",
              "              style=\"display:none;\">\n",
              "        \n",
              "  <svg xmlns=\"http://www.w3.org/2000/svg\" height=\"24px\"viewBox=\"0 0 24 24\"\n",
              "       width=\"24px\">\n",
              "    <path d=\"M0 0h24v24H0V0z\" fill=\"none\"/>\n",
              "    <path d=\"M18.56 5.44l.94 2.06.94-2.06 2.06-.94-2.06-.94-.94-2.06-.94 2.06-2.06.94zm-11 1L8.5 8.5l.94-2.06 2.06-.94-2.06-.94L8.5 2.5l-.94 2.06-2.06.94zm10 10l.94 2.06.94-2.06 2.06-.94-2.06-.94-.94-2.06-.94 2.06-2.06.94z\"/><path d=\"M17.41 7.96l-1.37-1.37c-.4-.4-.92-.59-1.43-.59-.52 0-1.04.2-1.43.59L10.3 9.45l-7.72 7.72c-.78.78-.78 2.05 0 2.83L4 21.41c.39.39.9.59 1.41.59.51 0 1.02-.2 1.41-.59l7.78-7.78 2.81-2.81c.8-.78.8-2.07 0-2.86zM5.41 20L4 18.59l7.72-7.72 1.47 1.35L5.41 20z\"/>\n",
              "  </svg>\n",
              "      </button>\n",
              "      \n",
              "  <style>\n",
              "    .colab-df-container {\n",
              "      display:flex;\n",
              "      flex-wrap:wrap;\n",
              "      gap: 12px;\n",
              "    }\n",
              "\n",
              "    .colab-df-convert {\n",
              "      background-color: #E8F0FE;\n",
              "      border: none;\n",
              "      border-radius: 50%;\n",
              "      cursor: pointer;\n",
              "      display: none;\n",
              "      fill: #1967D2;\n",
              "      height: 32px;\n",
              "      padding: 0 0 0 0;\n",
              "      width: 32px;\n",
              "    }\n",
              "\n",
              "    .colab-df-convert:hover {\n",
              "      background-color: #E2EBFA;\n",
              "      box-shadow: 0px 1px 2px rgba(60, 64, 67, 0.3), 0px 1px 3px 1px rgba(60, 64, 67, 0.15);\n",
              "      fill: #174EA6;\n",
              "    }\n",
              "\n",
              "    [theme=dark] .colab-df-convert {\n",
              "      background-color: #3B4455;\n",
              "      fill: #D2E3FC;\n",
              "    }\n",
              "\n",
              "    [theme=dark] .colab-df-convert:hover {\n",
              "      background-color: #434B5C;\n",
              "      box-shadow: 0px 1px 3px 1px rgba(0, 0, 0, 0.15);\n",
              "      filter: drop-shadow(0px 1px 2px rgba(0, 0, 0, 0.3));\n",
              "      fill: #FFFFFF;\n",
              "    }\n",
              "  </style>\n",
              "\n",
              "      <script>\n",
              "        const buttonEl =\n",
              "          document.querySelector('#df-9943b4bb-5872-4d49-a6af-b984c4b0d5ad button.colab-df-convert');\n",
              "        buttonEl.style.display =\n",
              "          google.colab.kernel.accessAllowed ? 'block' : 'none';\n",
              "\n",
              "        async function convertToInteractive(key) {\n",
              "          const element = document.querySelector('#df-9943b4bb-5872-4d49-a6af-b984c4b0d5ad');\n",
              "          const dataTable =\n",
              "            await google.colab.kernel.invokeFunction('convertToInteractive',\n",
              "                                                     [key], {});\n",
              "          if (!dataTable) return;\n",
              "\n",
              "          const docLinkHtml = 'Like what you see? Visit the ' +\n",
              "            '<a target=\"_blank\" href=https://colab.research.google.com/notebooks/data_table.ipynb>data table notebook</a>'\n",
              "            + ' to learn more about interactive tables.';\n",
              "          element.innerHTML = '';\n",
              "          dataTable['output_type'] = 'display_data';\n",
              "          await google.colab.output.renderOutput(dataTable, element);\n",
              "          const docLink = document.createElement('div');\n",
              "          docLink.innerHTML = docLinkHtml;\n",
              "          element.appendChild(docLink);\n",
              "        }\n",
              "      </script>\n",
              "    </div>\n",
              "  </div>\n",
              "  "
            ]
          },
          "metadata": {},
          "execution_count": 27
        }
      ]
    },
    {
      "cell_type": "code",
      "source": [
        "# how many papers are left with al the required info?\n",
        "len(df)"
      ],
      "metadata": {
        "id": "70fEvRJylR_g"
      },
      "execution_count": null,
      "outputs": []
    },
    {
      "cell_type": "markdown",
      "source": [
        "## Paper Encoding\n",
        "\n",
        "Here we take the text and identify each token \"word\" and use the spacy model to find the relationships etc."
      ],
      "metadata": {
        "id": "KOf6H35ylTs6"
      }
    },
    {
      "cell_type": "code",
      "source": [
        "#NLP \n",
        "import spacy\n",
        "from spacy.lang.en.stop_words import STOP_WORDS\n",
        "from spacy.lang.en import English\n",
        "# spacy.prefer_gpu() # if you have a GPU do this its so much faster\n",
        "\n",
        "# using scispacy we can add support for scientific abbreviations\n",
        "from scispacy.abbreviation import AbbreviationDetector\n",
        "\n",
        "parser = spacy.load(\"en_core_sci_md\") # scispacy model\n",
        "# Add the abbreviation pipe to the spacy pipeline.\n",
        "parser.add_pipe(\"abbreviation_detector\")\n"
      ],
      "metadata": {
        "id": "mlURjzvBlVUs"
      },
      "execution_count": null,
      "outputs": []
    },
    {
      "cell_type": "code",
      "source": [
        "import string\n",
        "\n",
        "punctuations = string.punctuation\n",
        "stopwords = list(STOP_WORDS)\n",
        "stopwords[:10]"
      ],
      "metadata": {
        "id": "M3OXPnShmG5H"
      },
      "execution_count": null,
      "outputs": []
    },
    {
      "cell_type": "code",
      "source": [
        "# stop words are words that are removed.\n",
        "# as We don't want a cluster per virus, per drug etc but generally paper with novel rna resmuts we add these extra stopwords.\n",
        "custom_stop_words = [\n",
        "    'doi', 'preprint', 'copyright', 'peer', 'reviewed', 'org', 'https', 'et', 'al', 'author', 'figure', \n",
        "    'rights', 'reserved', 'permission', 'used', 'using', 'biorxiv', 'medrxiv', 'license', 'fig', 'fig.', \n",
        "    'al.', 'Elsevier', 'PMC', 'CZI', 'www',\n",
        "    \"Hepatitis C\", \"Herpes\", \"Simplex 1\", \"Simplex 2\", \"Cytomegalovirus\", \"Coronavirus\", \"HCMV\", \"CMV\", \"HSV1\", \"HSV2\", \n",
        "    \"influenza A\", \"(H1N1)\", \"HIV-1\", \"HIV\", \"Hepatitis B\", \"HCV\", \"HBV\",\n",
        "    \"SARS-COV-2\", \"COVID-19\", \"COVID\", \"human immunodeficiency virus\", \"HIV-RNA\", \"subtype\", \"genotype\", \"subtype\",\n",
        "    \"avian influenza\", \"syncytial\", \"polio\", \"poliovirus\", \"chikungunya\"\n",
        "    \n",
        "]\n",
        "\n",
        "for w in custom_stop_words:\n",
        "    if w not in stopwords:\n",
        "        stopwords.append(w)"
      ],
      "metadata": {
        "id": "fST2REdyoXeB"
      },
      "execution_count": null,
      "outputs": []
    },
    {
      "cell_type": "code",
      "source": [
        "# Parser\n",
        "\n",
        "parser.max_length = 7000000\n",
        "\n",
        "def call_tokenizer(df):\n",
        "    df[\"processed_abstract\"] = df[\"abstract\"].apply(spacy_tokenizer)\n",
        "    return df\n",
        "\n",
        "def spacy_tokenizer(sentence):\n",
        "    mytokens = parser(sentence)\n",
        "    mytokens = [ word.lemma_.lower().strip() if word.lemma_ != \"-PRON-\" else word.lower_ for word in mytokens ]\n",
        "    mytokens = [ word for word in mytokens if word not in stopwords and word not in punctuations ]\n",
        "    mytokens = \" \".join([i for i in mytokens])\n",
        "    return mytokens"
      ],
      "metadata": {
        "id": "asuLDvrZoZ69"
      },
      "execution_count": null,
      "outputs": []
    },
    {
      "cell_type": "code",
      "source": [
        "from multiprocessing import  Pool\n",
        "\n",
        "def parallelize_dataframe(df, func, n_cores=4):\n",
        "    df_split = np.array_split(df, n_cores)\n",
        "    pool = Pool(n_cores)\n",
        "    df = pd.concat(pool.map(func, df_split))\n",
        "    pool.close()\n",
        "    pool.join()\n",
        "    return df"
      ],
      "metadata": {
        "id": "BxZsbVRJobQE"
      },
      "execution_count": null,
      "outputs": []
    },
    {
      "cell_type": "code",
      "source": [
        "%%capture --no-stdout\n",
        "# scispacy abbreviation complains each time a abstract has no abbreviations it knows.... stop that warning.\n",
        "# tokenise\n",
        "# single core - single gpu\n",
        "df[\"processed_abstract\"] = df[\"abstract\"].apply(spacy_tokenizer)\n",
        "# many cpu\n",
        "#%time df = parallelize_dataframe(df=df, func=call_tokenizer, n_cores=16)"
      ],
      "metadata": {
        "id": "hdMuOBOoocoP"
      },
      "execution_count": null,
      "outputs": []
    },
    {
      "cell_type": "markdown",
      "source": [
        "### save\n"
      ],
      "metadata": {
        "id": "h6HBAxmpojVt"
      }
    },
    {
      "cell_type": "code",
      "source": [
        "import pickle\n",
        "pickle.dump(df, open(\"tokenised_df.p\", \"wb\" ))"
      ],
      "metadata": {
        "id": "8UeA5J9eokYU"
      },
      "execution_count": null,
      "outputs": []
    },
    {
      "cell_type": "markdown",
      "source": [
        "## paper vectoriser\n"
      ],
      "metadata": {
        "id": "byTecMWholrf"
      }
    },
    {
      "cell_type": "code",
      "source": [
        "df = pickle.load(open(\"tokenised_df.p\", \"rb\"))\n",
        "#df = df.sample(600000)"
      ],
      "metadata": {
        "id": "F5dVfBf8oqWS"
      },
      "execution_count": null,
      "outputs": []
    },
    {
      "cell_type": "code",
      "source": [
        "from sklearn.feature_extraction.text import TfidfVectorizer\n",
        "def vectorize(text, maxx_features):\n",
        "    \n",
        "    vectorizer = TfidfVectorizer(max_features=maxx_features)\n",
        "    X = vectorizer.fit_transform(text)\n",
        "    return X"
      ],
      "metadata": {
        "id": "MpGoI8J4oriI"
      },
      "execution_count": null,
      "outputs": []
    },
    {
      "cell_type": "code",
      "source": [
        "text = df['processed_abstract'].values\n",
        "%time X = vectorize(text, 2 ** 12)\n",
        "X.shape"
      ],
      "metadata": {
        "id": "7pRhw_tsosUe"
      },
      "execution_count": null,
      "outputs": []
    },
    {
      "cell_type": "markdown",
      "source": [
        "##Cluster"
      ],
      "metadata": {
        "id": "PfH-jWGBouNR"
      }
    },
    {
      "cell_type": "code",
      "source": [
        "# as well as x and y space, lets colour each paper by Kmeans clustering\n",
        "from sklearn.cluster import KMeans\n",
        "k = 20\n",
        "kmeans = KMeans(n_clusters=k, random_state=42)\n",
        "%time y_pred = kmeans.fit_predict(X)\n",
        "df['y'] = y_pred"
      ],
      "metadata": {
        "id": "pCryx3W0owvy"
      },
      "execution_count": null,
      "outputs": []
    },
    {
      "cell_type": "markdown",
      "source": [
        "## Plotting"
      ],
      "metadata": {
        "id": "FVrgmd65o03r"
      }
    },
    {
      "cell_type": "code",
      "source": [
        "# reduce dimensions\n",
        "%matplotlib inline\n",
        "from matplotlib import pyplot as plt\n",
        "import seaborn as sns\n",
        "from sklearn.decomposition import PCA\n",
        "\n",
        "pca = PCA(n_components=30, random_state=42)\n",
        "%time X_embedded_pca= pca.fit_transform(X.toarray())\n",
        "X_embedded_pca.shape"
      ],
      "metadata": {
        "id": "JcczXPYMo2ZV"
      },
      "execution_count": null,
      "outputs": []
    },
    {
      "cell_type": "code",
      "source": [
        "# t-sne\n",
        "from sklearn.manifold import TSNE\n",
        "X_embedded_tsne = TSNE(n_components=2, learning_rate='auto',init='random').fit_transform(X_embedded_pca)\n",
        "df['x_tsne'] = X_embedded_tsne[:,0] \n",
        "df['y_tsne'] = X_embedded_tsne[:,1]\n",
        "\n",
        "#from tsnecuda import TSNE\n",
        "#%time X_embedded_tsne = TSNE(n_components=2, learning_rate=30, n_iter=500000, verbose=1).fit_transform(X_embedded_pca)"
      ],
      "metadata": {
        "id": "bjTDR2WZo68G"
      },
      "execution_count": null,
      "outputs": []
    },
    {
      "cell_type": "code",
      "source": [
        "# identify which papers we know are of interest, then make them squares. maybe we need to hide the virus name from the model?\n",
        "key_doi=[\"10.1371/journal.ppat.1009929\",\n",
        "\"10.1128/mBio.00221-18\",\n",
        "\"10.1128/JVI.01965-17\",\n",
        "\"10.1073/pnas.1811345115\",\n",
        "\"10.1093/jac/dku209\",\n",
        "\"10.1128/AAC.01073-16\",\n",
        "\"10.1073/pnas.1232294100\",\n",
        "\"10.1128/JVI.02139-12\",\n",
        "\"10.1016/j.antiviral.2013.07.008\",\n",
        "\"10.1371/journal.ppat.1001163\",\n",
        "\"10.1128/JVI.00289-14\",\n",
        "\"10.1073/pnas.1111650108\",\n",
        "\"10.1128/JVI.79.4.2346-2355.2005\",\n",
        "\"10.1128/JVI.03594-13\",\n",
        "\"10.1128/JVI.01297-08\",\n",
        "\"10.1371/journal.ppat.1003877\",\n",
        "\"10.1128/JVI.01528-14\",\n",
        "        \"10.1128/JVI.00367-19\",\n",
        "        \"10.1128/JVI.00078-16\",\n",
        "        \"10.1016/j.jmii.2017.03.004\",\n",
        "        \"10.1038/ncomms5794\",\n",
        "        \"10.1074/jbc.C112.401471\",\n",
        "        \"10.1099/jgv.0.000316\",\n",
        "        \"10.3791/2953\",\n",
        "        \"10.1099/jgv.0.000682\",\n",
        "        \"10.1371/journal.ppat.1001163\",\n",
        "        \"10.1016/j.bbrc.2013.12.071\",\n",
        "        \"10.1038/nm1726\",\n",
        "        \"10.1371/journal.ppat.1005010\"]\n",
        "df['key'] = df['doi'].isin(key_doi)\n",
        "df[df['doi'].isin(key_doi)]"
      ],
      "metadata": {
        "id": "bSHIBYoIpEGE"
      },
      "execution_count": null,
      "outputs": []
    },
    {
      "cell_type": "code",
      "source": [
        "# we want bokeh to treat y (cluster) as discrete not continuous \n",
        "df['y'] = df['y'].apply(str)\n",
        "df.dtypes"
      ],
      "metadata": {
        "id": "h_ol41opvd_6"
      },
      "execution_count": null,
      "outputs": []
    },
    {
      "cell_type": "code",
      "source": [
        "# make a pretty plot\n",
        "from bokeh.plotting import ColumnDataSource, figure, output_notebook, show, output_file, save\n",
        "from bokeh.palettes import d3\n",
        "import bokeh.models as bmo\n",
        "#output_file(\"toolbar.html\")\n",
        "output_notebook()\n",
        "\n",
        "TOOLTIPS = [\n",
        "    (\"index\", \"$index\"),\n",
        "    (\"(x,y)\", \"($x, $y)\"),\n",
        "    (\"doi\", \"@doi\"),\n",
        "    (\"title\", \"@title\"),\n",
        "]\n",
        "\n",
        "# use whatever palette you want...\n",
        "palette = d3['Category20'][len(df['y'].unique())]\n",
        "color_map = bmo.CategoricalColorMapper(factors=df['y'].unique(),\n",
        "                                   palette=palette)\n",
        "\n",
        "p = figure(width=800, height=800, tooltips=TOOLTIPS,\n",
        "           title=\"Mouse over the dots\")\n",
        "p.scatter('x_tsne', 'y_tsne', size=5, source=df[df['key'] == False], color={'field': 'y', 'transform': color_map})\n",
        "p.scatter('x_tsne', 'y_tsne', size=8, source=df[df['key'] == True], color=\"black\", marker=\"square\")\n",
        "show(p)\n"
      ],
      "metadata": {
        "id": "ocDSSng-pGBL"
      },
      "execution_count": null,
      "outputs": []
    }
  ]
}
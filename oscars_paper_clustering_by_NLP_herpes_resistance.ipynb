{
  "nbformat": 4,
  "nbformat_minor": 0,
  "metadata": {
    "colab": {
      "name": "oscars paper clustering by NLP.ipynb",
      "provenance": [],
      "collapsed_sections": [],
      "authorship_tag": "ABX9TyM6FeQAS3g7prFdUvRlqtXW",
      "include_colab_link": true
    },
    "kernelspec": {
      "name": "python3",
      "display_name": "Python 3"
    },
    "language_info": {
      "name": "python"
    }
  },
  "cells": [
    {
      "cell_type": "markdown",
      "metadata": {
        "id": "view-in-github",
        "colab_type": "text"
      },
      "source": [
        "<a href=\"https://colab.research.google.com/github/ojcharles/notebooks/blob/main/oscars_paper_clustering_by_NLP_herpes_resistance.ipynb\" target=\"_parent\"><img src=\"https://colab.research.google.com/assets/colab-badge.svg\" alt=\"Open In Colab\"/></a>"
      ]
    },
    {
      "cell_type": "markdown",
      "source": [
        "# Scientific Article Literature Clustering by NLP"
      ],
      "metadata": {
        "id": "2sgPmlxLjD8-"
      }
    },
    {
      "cell_type": "markdown",
      "source": [
        "Oscar Charles 2021\n",
        "\n",
        "This is a notebook that clusters journals, and can help you find similar papers to those you already know are important.\n",
        "\n",
        "What you need:\n",
        "\n",
        "\n",
        "*   A pubmed query. Example included\n",
        "*   A list of DOI's for papers you already care about. Example included\n",
        "\n",
        "\n",
        "\n",
        "Question: Can we use Natural Language processing to take a set of abstracts (strings) -> tokens -> vectorisation -> clustering of abstracts by similarity? We have a set of papers we want to cluster close together, can we get them too such that we can find similar papers we may have missed?\n",
        "\n"
      ],
      "metadata": {
        "id": "tiC3y-Hlb0dv"
      }
    },
    {
      "cell_type": "code",
      "source": [
        "# install all the python stuff I need\n",
        "# get the requirements file\n",
        "!wget https://raw.githubusercontent.com/ojcharles/snippets/main/nlp_lit_clustering_requirements.txt\n",
        "\n",
        "# install the packages\n",
        "!pip install -r nlp_lit_clustering_requirements.txt\n",
        "\n",
        "# install the spacy model\n",
        "# A full spaCy pipeline for biomedical data with a larger vocabulary and 50k word vectors.\n",
        "! python -m pip install https://s3-us-west-2.amazonaws.com/ai2-s2-scispacy/releases/v0.5.0/en_core_sci_md-0.5.0.tar.gz"
      ],
      "metadata": {
        "id": "xku-ZsHYc1Rr",
        "colab": {
          "base_uri": "https://localhost:8080/",
          "height": 1000
        },
        "outputId": "54bf54d6-76fc-4280-b34c-8b434c982331"
      },
      "execution_count": null,
      "outputs": [
        {
          "output_type": "stream",
          "name": "stdout",
          "text": [
            "--2022-06-11 10:56:16--  https://raw.githubusercontent.com/ojcharles/snippets/main/nlp_lit_clustering_requirements.txt\n",
            "Resolving raw.githubusercontent.com (raw.githubusercontent.com)... 185.199.108.133, 185.199.109.133, 185.199.110.133, ...\n",
            "Connecting to raw.githubusercontent.com (raw.githubusercontent.com)|185.199.108.133|:443... connected.\n",
            "HTTP request sent, awaiting response... 200 OK\n",
            "Length: 561 [text/plain]\n",
            "Saving to: ‘nlp_lit_clustering_requirements.txt.1’\n",
            "\n",
            "\r          nlp_lit_c   0%[                    ]       0  --.-KB/s               \rnlp_lit_clustering_ 100%[===================>]     561  --.-KB/s    in 0s      \n",
            "\n",
            "2022-06-11 10:56:16 (23.9 MB/s) - ‘nlp_lit_clustering_requirements.txt.1’ saved [561/561]\n",
            "\n",
            "Looking in indexes: https://pypi.org/simple, https://us-python.pkg.dev/colab-wheels/public/simple/\n",
            "Collecting en-core-web-sm@ https://github.com/explosion/spacy-models/releases/download/en_core_web_sm-3.2.0/en_core_web_sm-3.2.0-py3-none-any.whl\n",
            "  Using cached https://github.com/explosion/spacy-models/releases/download/en_core_web_sm-3.2.0/en_core_web_sm-3.2.0-py3-none-any.whl (13.9 MB)\n",
            "Requirement already satisfied: jedi==0.18.1 in /usr/local/lib/python3.7/dist-packages (from -r nlp_lit_clustering_requirements.txt (line 2)) (0.18.1)\n",
            "Collecting matplotlib==3.5.1\n",
            "  Using cached matplotlib-3.5.1-cp37-cp37m-manylinux_2_5_x86_64.manylinux1_x86_64.whl (11.2 MB)\n",
            "Requirement already satisfied: matplotlib-inline==0.1.3 in /usr/local/lib/python3.7/dist-packages (from -r nlp_lit_clustering_requirements.txt (line 4)) (0.1.3)\n",
            "Requirement already satisfied: numpy in /usr/local/lib/python3.7/dist-packages (from -r nlp_lit_clustering_requirements.txt (line 5)) (1.21.6)\n",
            "Collecting oauthlib==3.1.1\n",
            "  Using cached oauthlib-3.1.1-py2.py3-none-any.whl (146 kB)\n",
            "Requirement already satisfied: packaging==21.3 in /usr/local/lib/python3.7/dist-packages (from -r nlp_lit_clustering_requirements.txt (line 7)) (21.3)\n",
            "Requirement already satisfied: pandas==1.3.5 in /usr/local/lib/python3.7/dist-packages (from -r nlp_lit_clustering_requirements.txt (line 8)) (1.3.5)\n",
            "Collecting pathy==0.6.1\n",
            "  Using cached pathy-0.6.1-py3-none-any.whl (42 kB)\n",
            "Requirement already satisfied: pickleshare==0.7.5 in /usr/local/lib/python3.7/dist-packages (from -r nlp_lit_clustering_requirements.txt (line 10)) (0.7.5)\n",
            "Requirement already satisfied: python-dateutil==2.8.2 in /usr/local/lib/python3.7/dist-packages (from -r nlp_lit_clustering_requirements.txt (line 11)) (2.8.2)\n",
            "Collecting python-json-logger==2.0.2\n",
            "  Using cached python_json_logger-2.0.2-py3-none-any.whl (7.4 kB)\n",
            "Collecting PyYAML==6.0\n",
            "  Using cached PyYAML-6.0-cp37-cp37m-manylinux_2_5_x86_64.manylinux1_x86_64.manylinux_2_12_x86_64.manylinux2010_x86_64.whl (596 kB)\n",
            "Collecting regex==2021.11.10\n",
            "  Using cached regex-2021.11.10-cp37-cp37m-manylinux_2_17_x86_64.manylinux2014_x86_64.whl (749 kB)\n",
            "Requirement already satisfied: scikit-learn==1.0.2 in /usr/local/lib/python3.7/dist-packages (from -r nlp_lit_clustering_requirements.txt (line 15)) (1.0.2)\n",
            "Collecting scipy==1.7.3\n",
            "  Using cached scipy-1.7.3-cp37-cp37m-manylinux_2_12_x86_64.manylinux2010_x86_64.whl (38.1 MB)\n",
            "Requirement already satisfied: seaborn==0.11.2 in /usr/local/lib/python3.7/dist-packages (from -r nlp_lit_clustering_requirements.txt (line 17)) (0.11.2)\n",
            "Requirement already satisfied: sklearn==0.0 in /usr/local/lib/python3.7/dist-packages (from -r nlp_lit_clustering_requirements.txt (line 18)) (0.0)\n",
            "Collecting spacy==3.2.1\n",
            "  Using cached spacy-3.2.1-cp37-cp37m-manylinux_2_17_x86_64.manylinux2014_x86_64.whl (6.0 MB)\n",
            "Collecting spacy-legacy==3.0.8\n",
            "  Using cached spacy_legacy-3.0.8-py2.py3-none-any.whl (14 kB)\n",
            "Collecting spacy-loggers==1.0.1\n",
            "  Using cached spacy_loggers-1.0.1-py3-none-any.whl (7.0 kB)\n",
            "Collecting wasabi==0.9.0\n",
            "  Using cached wasabi-0.9.0-py3-none-any.whl (25 kB)\n",
            "Requirement already satisfied: webencodings==0.5.1 in /usr/local/lib/python3.7/dist-packages (from -r nlp_lit_clustering_requirements.txt (line 23)) (0.5.1)\n",
            "Collecting websocket-client==1.2.3\n",
            "  Using cached websocket_client-1.2.3-py3-none-any.whl (53 kB)\n",
            "Collecting xml-python\n",
            "  Using cached xml_python-0.4.3-py3-none-any.whl (9.2 kB)\n",
            "Requirement already satisfied: bokeh in /usr/local/lib/python3.7/dist-packages (from -r nlp_lit_clustering_requirements.txt (line 26)) (2.3.3)\n",
            "Requirement already satisfied: torch in /usr/local/lib/python3.7/dist-packages (from -r nlp_lit_clustering_requirements.txt (line 27)) (1.11.0+cu113)\n",
            "Collecting scispacy\n",
            "  Using cached scispacy-0.5.0-py3-none-any.whl (44 kB)\n",
            "Requirement already satisfied: parso<0.9.0,>=0.8.0 in /usr/local/lib/python3.7/dist-packages (from jedi==0.18.1->-r nlp_lit_clustering_requirements.txt (line 2)) (0.8.3)\n",
            "Requirement already satisfied: kiwisolver>=1.0.1 in /usr/local/lib/python3.7/dist-packages (from matplotlib==3.5.1->-r nlp_lit_clustering_requirements.txt (line 3)) (1.4.2)\n",
            "Requirement already satisfied: pillow>=6.2.0 in /usr/local/lib/python3.7/dist-packages (from matplotlib==3.5.1->-r nlp_lit_clustering_requirements.txt (line 3)) (7.1.2)\n",
            "Requirement already satisfied: pyparsing>=2.2.1 in /usr/local/lib/python3.7/dist-packages (from matplotlib==3.5.1->-r nlp_lit_clustering_requirements.txt (line 3)) (3.0.9)\n",
            "Requirement already satisfied: cycler>=0.10 in /usr/local/lib/python3.7/dist-packages (from matplotlib==3.5.1->-r nlp_lit_clustering_requirements.txt (line 3)) (0.11.0)\n",
            "Collecting fonttools>=4.22.0\n",
            "  Using cached fonttools-4.33.3-py3-none-any.whl (930 kB)\n",
            "Requirement already satisfied: traitlets in /usr/local/lib/python3.7/dist-packages (from matplotlib-inline==0.1.3->-r nlp_lit_clustering_requirements.txt (line 4)) (5.1.1)\n",
            "Requirement already satisfied: pytz>=2017.3 in /usr/local/lib/python3.7/dist-packages (from pandas==1.3.5->-r nlp_lit_clustering_requirements.txt (line 8)) (2022.1)\n",
            "Collecting smart-open<6.0.0,>=5.0.0\n",
            "  Using cached smart_open-5.2.1-py3-none-any.whl (58 kB)\n",
            "Collecting typer<1.0.0,>=0.3.0\n",
            "  Using cached typer-0.4.1-py3-none-any.whl (27 kB)\n",
            "Requirement already satisfied: six>=1.5 in /usr/local/lib/python3.7/dist-packages (from python-dateutil==2.8.2->-r nlp_lit_clustering_requirements.txt (line 11)) (1.15.0)\n",
            "Requirement already satisfied: joblib>=0.11 in /usr/local/lib/python3.7/dist-packages (from scikit-learn==1.0.2->-r nlp_lit_clustering_requirements.txt (line 15)) (1.1.0)\n",
            "Requirement already satisfied: threadpoolctl>=2.0.0 in /usr/local/lib/python3.7/dist-packages (from scikit-learn==1.0.2->-r nlp_lit_clustering_requirements.txt (line 15)) (3.1.0)\n",
            "Requirement already satisfied: tqdm<5.0.0,>=4.38.0 in /usr/local/lib/python3.7/dist-packages (from spacy==3.2.1->-r nlp_lit_clustering_requirements.txt (line 19)) (4.64.0)\n",
            "Requirement already satisfied: cymem<2.1.0,>=2.0.2 in /usr/local/lib/python3.7/dist-packages (from spacy==3.2.1->-r nlp_lit_clustering_requirements.txt (line 19)) (2.0.6)\n",
            "Requirement already satisfied: blis<0.8.0,>=0.4.0 in /usr/local/lib/python3.7/dist-packages (from spacy==3.2.1->-r nlp_lit_clustering_requirements.txt (line 19)) (0.4.1)\n",
            "Collecting pydantic!=1.8,!=1.8.1,<1.9.0,>=1.7.4\n",
            "  Using cached pydantic-1.8.2-cp37-cp37m-manylinux2014_x86_64.whl (10.1 MB)\n",
            "Collecting typing-extensions<4.0.0.0,>=3.7.4\n",
            "  Using cached typing_extensions-3.10.0.2-py3-none-any.whl (26 kB)\n",
            "Collecting thinc<8.1.0,>=8.0.12\n",
            "  Using cached thinc-8.0.17-cp37-cp37m-manylinux_2_17_x86_64.manylinux2014_x86_64.whl (660 kB)\n",
            "Requirement already satisfied: murmurhash<1.1.0,>=0.28.0 in /usr/local/lib/python3.7/dist-packages (from spacy==3.2.1->-r nlp_lit_clustering_requirements.txt (line 19)) (1.0.7)\n",
            "Collecting srsly<3.0.0,>=2.4.1\n",
            "  Using cached srsly-2.4.3-cp37-cp37m-manylinux_2_17_x86_64.manylinux2014_x86_64.whl (457 kB)\n",
            "Collecting langcodes<4.0.0,>=3.2.0\n",
            "  Using cached langcodes-3.3.0-py3-none-any.whl (181 kB)\n",
            "Requirement already satisfied: preshed<3.1.0,>=3.0.2 in /usr/local/lib/python3.7/dist-packages (from spacy==3.2.1->-r nlp_lit_clustering_requirements.txt (line 19)) (3.0.6)\n",
            "Requirement already satisfied: setuptools in /usr/local/lib/python3.7/dist-packages (from spacy==3.2.1->-r nlp_lit_clustering_requirements.txt (line 19)) (57.4.0)\n",
            "Collecting catalogue<2.1.0,>=2.0.6\n",
            "  Using cached catalogue-2.0.7-py3-none-any.whl (17 kB)\n",
            "Requirement already satisfied: requests<3.0.0,>=2.13.0 in /usr/local/lib/python3.7/dist-packages (from spacy==3.2.1->-r nlp_lit_clustering_requirements.txt (line 19)) (2.23.0)\n",
            "Requirement already satisfied: jinja2 in /usr/local/lib/python3.7/dist-packages (from spacy==3.2.1->-r nlp_lit_clustering_requirements.txt (line 19)) (2.11.3)\n",
            "Requirement already satisfied: zipp>=0.5 in /usr/local/lib/python3.7/dist-packages (from catalogue<2.1.0,>=2.0.6->spacy==3.2.1->-r nlp_lit_clustering_requirements.txt (line 19)) (3.8.0)\n",
            "Requirement already satisfied: idna<3,>=2.5 in /usr/local/lib/python3.7/dist-packages (from requests<3.0.0,>=2.13.0->spacy==3.2.1->-r nlp_lit_clustering_requirements.txt (line 19)) (2.10)\n",
            "Requirement already satisfied: chardet<4,>=3.0.2 in /usr/local/lib/python3.7/dist-packages (from requests<3.0.0,>=2.13.0->spacy==3.2.1->-r nlp_lit_clustering_requirements.txt (line 19)) (3.0.4)\n",
            "Requirement already satisfied: urllib3!=1.25.0,!=1.25.1,<1.26,>=1.21.1 in /usr/local/lib/python3.7/dist-packages (from requests<3.0.0,>=2.13.0->spacy==3.2.1->-r nlp_lit_clustering_requirements.txt (line 19)) (1.24.3)\n",
            "Requirement already satisfied: certifi>=2017.4.17 in /usr/local/lib/python3.7/dist-packages (from requests<3.0.0,>=2.13.0->spacy==3.2.1->-r nlp_lit_clustering_requirements.txt (line 19)) (2022.5.18.1)\n",
            "Requirement already satisfied: click<9.0.0,>=7.1.1 in /usr/local/lib/python3.7/dist-packages (from typer<1.0.0,>=0.3.0->pathy==0.6.1->-r nlp_lit_clustering_requirements.txt (line 9)) (7.1.2)\n",
            "Requirement already satisfied: attrs in /usr/local/lib/python3.7/dist-packages (from xml-python->-r nlp_lit_clustering_requirements.txt (line 25)) (21.4.0)\n",
            "Requirement already satisfied: tornado>=5.1 in /usr/local/lib/python3.7/dist-packages (from bokeh->-r nlp_lit_clustering_requirements.txt (line 26)) (5.1.1)\n",
            "Requirement already satisfied: MarkupSafe>=0.23 in /usr/local/lib/python3.7/dist-packages (from jinja2->spacy==3.2.1->-r nlp_lit_clustering_requirements.txt (line 19)) (2.0.1)\n",
            "Collecting nmslib>=1.7.3.6\n",
            "  Using cached nmslib-2.1.1-cp37-cp37m-manylinux2010_x86_64.whl (13.5 MB)\n",
            "Collecting pysbd\n",
            "  Using cached pysbd-0.3.4-py3-none-any.whl (71 kB)\n",
            "Collecting conllu\n",
            "  Using cached conllu-4.4.2-py2.py3-none-any.whl (15 kB)\n",
            "Collecting pybind11<2.6.2\n",
            "  Using cached pybind11-2.6.1-py2.py3-none-any.whl (188 kB)\n",
            "Requirement already satisfied: psutil in /usr/local/lib/python3.7/dist-packages (from nmslib>=1.7.3.6->scispacy->-r nlp_lit_clustering_requirements.txt (line 28)) (5.4.8)\n",
            "Installing collected packages: typing-extensions, catalogue, wasabi, typer, srsly, smart-open, pydantic, thinc, spacy-loggers, spacy-legacy, scipy, pybind11, pathy, langcodes, fonttools, spacy, PyYAML, pysbd, nmslib, matplotlib, conllu, xml-python, websocket-client, scispacy, regex, python-json-logger, oauthlib, en-core-web-sm\n",
            "  Attempting uninstall: typing-extensions\n",
            "    Found existing installation: typing-extensions 4.2.0\n",
            "    Uninstalling typing-extensions-4.2.0:\n",
            "      Successfully uninstalled typing-extensions-4.2.0\n",
            "  Attempting uninstall: catalogue\n",
            "    Found existing installation: catalogue 1.0.0\n",
            "    Uninstalling catalogue-1.0.0:\n",
            "      Successfully uninstalled catalogue-1.0.0\n",
            "  Attempting uninstall: wasabi\n",
            "    Found existing installation: wasabi 0.9.1\n",
            "    Uninstalling wasabi-0.9.1:\n",
            "      Successfully uninstalled wasabi-0.9.1\n",
            "  Attempting uninstall: srsly\n",
            "    Found existing installation: srsly 1.0.5\n",
            "    Uninstalling srsly-1.0.5:\n",
            "      Successfully uninstalled srsly-1.0.5\n",
            "  Attempting uninstall: smart-open\n",
            "    Found existing installation: smart-open 6.0.0\n",
            "    Uninstalling smart-open-6.0.0:\n",
            "      Successfully uninstalled smart-open-6.0.0\n",
            "  Attempting uninstall: thinc\n",
            "    Found existing installation: thinc 7.4.0\n",
            "    Uninstalling thinc-7.4.0:\n",
            "      Successfully uninstalled thinc-7.4.0\n",
            "  Attempting uninstall: scipy\n",
            "    Found existing installation: scipy 1.4.1\n",
            "    Uninstalling scipy-1.4.1:\n",
            "      Successfully uninstalled scipy-1.4.1\n",
            "  Attempting uninstall: spacy\n",
            "    Found existing installation: spacy 2.2.4\n",
            "    Uninstalling spacy-2.2.4:\n",
            "      Successfully uninstalled spacy-2.2.4\n",
            "  Attempting uninstall: PyYAML\n",
            "    Found existing installation: PyYAML 3.13\n",
            "    Uninstalling PyYAML-3.13:\n",
            "      Successfully uninstalled PyYAML-3.13\n",
            "  Attempting uninstall: matplotlib\n",
            "    Found existing installation: matplotlib 3.2.2\n",
            "    Uninstalling matplotlib-3.2.2:\n",
            "      Successfully uninstalled matplotlib-3.2.2\n",
            "  Attempting uninstall: regex\n",
            "    Found existing installation: regex 2019.12.20\n",
            "    Uninstalling regex-2019.12.20:\n",
            "      Successfully uninstalled regex-2019.12.20\n",
            "  Attempting uninstall: oauthlib\n",
            "    Found existing installation: oauthlib 3.2.0\n",
            "    Uninstalling oauthlib-3.2.0:\n",
            "      Successfully uninstalled oauthlib-3.2.0\n",
            "  Attempting uninstall: en-core-web-sm\n",
            "    Found existing installation: en-core-web-sm 2.2.5\n",
            "    Uninstalling en-core-web-sm-2.2.5:\n",
            "      Successfully uninstalled en-core-web-sm-2.2.5\n",
            "\u001b[31mERROR: pip's dependency resolver does not currently take into account all the packages that are installed. This behaviour is the source of the following dependency conflicts.\n",
            "albumentations 0.1.12 requires imgaug<0.2.7,>=0.2.5, but you have imgaug 0.2.9 which is incompatible.\u001b[0m\n",
            "Successfully installed PyYAML-6.0 catalogue-2.0.7 conllu-4.4.2 en-core-web-sm-3.2.0 fonttools-4.33.3 langcodes-3.3.0 matplotlib-3.5.1 nmslib-2.1.1 oauthlib-3.1.1 pathy-0.6.1 pybind11-2.6.1 pydantic-1.8.2 pysbd-0.3.4 python-json-logger-2.0.2 regex-2021.11.10 scipy-1.7.3 scispacy-0.5.0 smart-open-5.2.1 spacy-3.2.1 spacy-legacy-3.0.8 spacy-loggers-1.0.1 srsly-2.4.3 thinc-8.0.17 typer-0.4.1 typing-extensions-3.10.0.2 wasabi-0.9.0 websocket-client-1.2.3 xml-python-0.4.3\n"
          ]
        },
        {
          "output_type": "display_data",
          "data": {
            "application/vnd.colab-display-data+json": {
              "pip_warning": {
                "packages": [
                  "matplotlib",
                  "mpl_toolkits",
                  "typing_extensions",
                  "yaml"
                ]
              }
            }
          },
          "metadata": {}
        },
        {
          "output_type": "stream",
          "name": "stdout",
          "text": [
            "Looking in indexes: https://pypi.org/simple, https://us-python.pkg.dev/colab-wheels/public/simple/\n",
            "Collecting https://s3-us-west-2.amazonaws.com/ai2-s2-scispacy/releases/v0.5.0/en_core_sci_md-0.5.0.tar.gz\n",
            "  Downloading https://s3-us-west-2.amazonaws.com/ai2-s2-scispacy/releases/v0.5.0/en_core_sci_md-0.5.0.tar.gz (120.2 MB)\n",
            "\u001b[K     |████████████████████████████████| 120.2 MB 46 kB/s \n",
            "\u001b[?25hCollecting spacy<3.3.0,>=3.2.3\n",
            "  Downloading spacy-3.2.4-cp37-cp37m-manylinux_2_17_x86_64.manylinux2014_x86_64.whl (6.0 MB)\n",
            "\u001b[K     |████████████████████████████████| 6.0 MB 5.2 MB/s \n",
            "\u001b[?25hRequirement already satisfied: murmurhash<1.1.0,>=0.28.0 in /usr/local/lib/python3.7/dist-packages (from spacy<3.3.0,>=3.2.3->en-core-sci-md==0.5.0) (1.0.7)\n",
            "Requirement already satisfied: spacy-legacy<3.1.0,>=3.0.8 in /usr/local/lib/python3.7/dist-packages (from spacy<3.3.0,>=3.2.3->en-core-sci-md==0.5.0) (3.0.8)\n",
            "Requirement already satisfied: pydantic!=1.8,!=1.8.1,<1.9.0,>=1.7.4 in /usr/local/lib/python3.7/dist-packages (from spacy<3.3.0,>=3.2.3->en-core-sci-md==0.5.0) (1.8.2)\n",
            "Requirement already satisfied: blis<0.8.0,>=0.4.0 in /usr/local/lib/python3.7/dist-packages (from spacy<3.3.0,>=3.2.3->en-core-sci-md==0.5.0) (0.4.1)\n",
            "Requirement already satisfied: numpy>=1.15.0 in /usr/local/lib/python3.7/dist-packages (from spacy<3.3.0,>=3.2.3->en-core-sci-md==0.5.0) (1.21.6)\n",
            "Requirement already satisfied: requests<3.0.0,>=2.13.0 in /usr/local/lib/python3.7/dist-packages (from spacy<3.3.0,>=3.2.3->en-core-sci-md==0.5.0) (2.23.0)\n",
            "Requirement already satisfied: tqdm<5.0.0,>=4.38.0 in /usr/local/lib/python3.7/dist-packages (from spacy<3.3.0,>=3.2.3->en-core-sci-md==0.5.0) (4.64.0)\n",
            "Requirement already satisfied: spacy-loggers<2.0.0,>=1.0.0 in /usr/local/lib/python3.7/dist-packages (from spacy<3.3.0,>=3.2.3->en-core-sci-md==0.5.0) (1.0.1)\n",
            "Requirement already satisfied: preshed<3.1.0,>=3.0.2 in /usr/local/lib/python3.7/dist-packages (from spacy<3.3.0,>=3.2.3->en-core-sci-md==0.5.0) (3.0.6)\n",
            "Requirement already satisfied: cymem<2.1.0,>=2.0.2 in /usr/local/lib/python3.7/dist-packages (from spacy<3.3.0,>=3.2.3->en-core-sci-md==0.5.0) (2.0.6)\n",
            "Requirement already satisfied: typing-extensions<4.0.0.0,>=3.7.4 in /usr/local/lib/python3.7/dist-packages (from spacy<3.3.0,>=3.2.3->en-core-sci-md==0.5.0) (3.10.0.2)\n",
            "Requirement already satisfied: wasabi<1.1.0,>=0.8.1 in /usr/local/lib/python3.7/dist-packages (from spacy<3.3.0,>=3.2.3->en-core-sci-md==0.5.0) (0.9.0)\n",
            "Requirement already satisfied: pathy>=0.3.5 in /usr/local/lib/python3.7/dist-packages (from spacy<3.3.0,>=3.2.3->en-core-sci-md==0.5.0) (0.6.1)\n",
            "Requirement already satisfied: packaging>=20.0 in /usr/local/lib/python3.7/dist-packages (from spacy<3.3.0,>=3.2.3->en-core-sci-md==0.5.0) (21.3)\n",
            "Requirement already satisfied: catalogue<2.1.0,>=2.0.6 in /usr/local/lib/python3.7/dist-packages (from spacy<3.3.0,>=3.2.3->en-core-sci-md==0.5.0) (2.0.7)\n",
            "Requirement already satisfied: click<8.1.0 in /usr/local/lib/python3.7/dist-packages (from spacy<3.3.0,>=3.2.3->en-core-sci-md==0.5.0) (7.1.2)\n",
            "Requirement already satisfied: srsly<3.0.0,>=2.4.1 in /usr/local/lib/python3.7/dist-packages (from spacy<3.3.0,>=3.2.3->en-core-sci-md==0.5.0) (2.4.3)\n",
            "Requirement already satisfied: setuptools in /usr/local/lib/python3.7/dist-packages (from spacy<3.3.0,>=3.2.3->en-core-sci-md==0.5.0) (57.4.0)\n",
            "Requirement already satisfied: langcodes<4.0.0,>=3.2.0 in /usr/local/lib/python3.7/dist-packages (from spacy<3.3.0,>=3.2.3->en-core-sci-md==0.5.0) (3.3.0)\n",
            "Requirement already satisfied: jinja2 in /usr/local/lib/python3.7/dist-packages (from spacy<3.3.0,>=3.2.3->en-core-sci-md==0.5.0) (2.11.3)\n",
            "Requirement already satisfied: thinc<8.1.0,>=8.0.12 in /usr/local/lib/python3.7/dist-packages (from spacy<3.3.0,>=3.2.3->en-core-sci-md==0.5.0) (8.0.17)\n",
            "Requirement already satisfied: typer<0.5.0,>=0.3.0 in /usr/local/lib/python3.7/dist-packages (from spacy<3.3.0,>=3.2.3->en-core-sci-md==0.5.0) (0.4.1)\n",
            "Requirement already satisfied: zipp>=0.5 in /usr/local/lib/python3.7/dist-packages (from catalogue<2.1.0,>=2.0.6->spacy<3.3.0,>=3.2.3->en-core-sci-md==0.5.0) (3.8.0)\n",
            "Requirement already satisfied: pyparsing!=3.0.5,>=2.0.2 in /usr/local/lib/python3.7/dist-packages (from packaging>=20.0->spacy<3.3.0,>=3.2.3->en-core-sci-md==0.5.0) (3.0.9)\n",
            "Requirement already satisfied: smart-open<6.0.0,>=5.0.0 in /usr/local/lib/python3.7/dist-packages (from pathy>=0.3.5->spacy<3.3.0,>=3.2.3->en-core-sci-md==0.5.0) (5.2.1)\n",
            "Requirement already satisfied: idna<3,>=2.5 in /usr/local/lib/python3.7/dist-packages (from requests<3.0.0,>=2.13.0->spacy<3.3.0,>=3.2.3->en-core-sci-md==0.5.0) (2.10)\n",
            "Requirement already satisfied: certifi>=2017.4.17 in /usr/local/lib/python3.7/dist-packages (from requests<3.0.0,>=2.13.0->spacy<3.3.0,>=3.2.3->en-core-sci-md==0.5.0) (2022.5.18.1)\n",
            "Requirement already satisfied: chardet<4,>=3.0.2 in /usr/local/lib/python3.7/dist-packages (from requests<3.0.0,>=2.13.0->spacy<3.3.0,>=3.2.3->en-core-sci-md==0.5.0) (3.0.4)\n",
            "Requirement already satisfied: urllib3!=1.25.0,!=1.25.1,<1.26,>=1.21.1 in /usr/local/lib/python3.7/dist-packages (from requests<3.0.0,>=2.13.0->spacy<3.3.0,>=3.2.3->en-core-sci-md==0.5.0) (1.24.3)\n",
            "Requirement already satisfied: MarkupSafe>=0.23 in /usr/local/lib/python3.7/dist-packages (from jinja2->spacy<3.3.0,>=3.2.3->en-core-sci-md==0.5.0) (2.0.1)\n",
            "Building wheels for collected packages: en-core-sci-md\n",
            "  Building wheel for en-core-sci-md (setup.py) ... \u001b[?25l\u001b[?25hdone\n",
            "  Created wheel for en-core-sci-md: filename=en_core_sci_md-0.5.0-py3-none-any.whl size=120252807 sha256=e773f96a1a5bdc5bfa30ebbc1fd2a72f50fadb7d011dca625b77b28a32ea0272\n",
            "  Stored in directory: /root/.cache/pip/wheels/c2/9a/de/7c6ba2bbf7d24e6f54810fd43b09b30a813dcaaabf33c0f941\n",
            "Successfully built en-core-sci-md\n",
            "Installing collected packages: spacy, en-core-sci-md\n",
            "  Attempting uninstall: spacy\n",
            "    Found existing installation: spacy 3.2.1\n",
            "    Uninstalling spacy-3.2.1:\n",
            "      Successfully uninstalled spacy-3.2.1\n",
            "Successfully installed en-core-sci-md-0.5.0 spacy-3.2.4\n"
          ]
        }
      ]
    },
    {
      "cell_type": "code",
      "source": [
        "# also install EDirect for pubmed APi calls\n",
        "!  yes | sh -c \"$(curl -fsSL ftp://ftp.ncbi.nlm.nih.gov/entrez/entrezdirect/install-edirect.sh)\""
      ],
      "metadata": {
        "colab": {
          "base_uri": "https://localhost:8080/"
        },
        "id": "k2oCkhY6jjxR",
        "outputId": "0ca63aff-a1c8-4edf-a6e3-26528b14c2f1"
      },
      "execution_count": null,
      "outputs": [
        {
          "output_type": "stream",
          "name": "stdout",
          "text": [
            "\n",
            "Entrez Direct has been successfully downloaded and installed.\n",
            "\n",
            "In order to complete the configuration process, please execute the following:\n",
            "\n",
            "  echo \"export PATH=\\${PATH}:/root/edirect\" >> ${HOME}/.bashrc\n",
            "\n",
            "or manually edit the PATH variable assignment in your .bashrc file.\n",
            "\n",
            "Would you like to do that automatically now? [y/N]\n",
            "OK, done.\n",
            "\n",
            "To activate EDirect for this terminal session, please execute the following:\n",
            "\n",
            "export PATH=${PATH}:${HOME}/edirect\n",
            "\n"
          ]
        }
      ]
    },
    {
      "cell_type": "markdown",
      "source": [
        "Getting paper data from Pubmed and parseing the json"
      ],
      "metadata": {
        "id": "ivvImRzTi6iZ"
      }
    },
    {
      "cell_type": "code",
      "source": [
        "import numpy as np # linear algebra\n",
        "import pandas as pd # data processing, CSV file I/O (e.g. pd.read_csv)\n",
        "import xml.etree.ElementTree as ET\n",
        "import bokeh"
      ],
      "metadata": {
        "id": "kXIpz_I5i6tq"
      },
      "execution_count": null,
      "outputs": []
    },
    {
      "cell_type": "code",
      "source": [
        "# pubmed has all papers, epmc only those that are openly accessible.\n",
        "\n",
        "# Conduct a PubMed search and retrieve the results as a list of PMIDs\n",
        "! ${HOME}/edirect/esearch -db pubmed -query \"((resistance)) AND ((ribavirin) OR (favipiravir) OR (remdesivir) OR (EIDD-2801) OR (molnupiravir)) \"   | ${HOME}/edirect/efetch -format uid > pubmed.txt\n",
        "\n",
        "# how many entries?\n",
        "! wc -l pubmed.txt \n",
        "\n",
        "# take those identified pubmed ids of interest and \n",
        "! ${HOME}/edirect/efetch -db pubmed -input pubmed.txt -format xml > pubmed.xml\n",
        "\n",
        "# sanity check\n",
        "! head -5 pubmed.xml"
      ],
      "metadata": {
        "colab": {
          "base_uri": "https://localhost:8080/"
        },
        "id": "huJ1CUBWi5Et",
        "outputId": "3972541c-977b-40c7-f84b-e807421ded3b"
      },
      "execution_count": null,
      "outputs": [
        {
          "output_type": "stream",
          "name": "stdout",
          "text": [
            "1821 pubmed.txt\n",
            "<?xml version=\"1.0\" encoding=\"UTF-8\" ?>\n",
            "<!DOCTYPE PubmedArticleSet>\n",
            "<PubmedArticleSet>\n",
            "  <PubmedArticle>\n",
            "    <MedlineCitation Status=\"MEDLINE\" IndexingMethod=\"Curated\" Owner=\"NLM\">\n"
          ]
        }
      ]
    },
    {
      "cell_type": "code",
      "source": [
        "! sed -n 54814p pubmed.xml"
      ],
      "metadata": {
        "id": "Vsb7OY_davSu",
        "outputId": "bd8df54c-9b65-466c-f713-600ab52682ab",
        "colab": {
          "base_uri": "https://localhost:8080/"
        }
      },
      "execution_count": null,
      "outputs": [
        {
          "output_type": "stream",
          "name": "stdout",
          "text": [
            "        <ArticleTitle>Most Promising Compounds for Treating COVID-19 and Recent Trends in Antimicrobial & Antifungal Agents.</ArticleTitle>\n"
          ]
        }
      ]
    },
    {
      "cell_type": "code",
      "source": [
        "# parse xml\n",
        "dict_ = {'doi': [], 'title': [], 'abstract':[]}\n",
        "\n",
        "tree = ET.parse('pubmed.xml') # download from a search in epmc\n",
        "root = tree.getroot()\n",
        "\n",
        "search_doi = 'PubmedData/ArticleIdList/ArticleId[@IdType=\"doi\"]'\n",
        "search_title = 'MedlineCitation/Article/ArticleTitle'\n",
        "search_abstract = 'MedlineCitation/Article/Abstract/AbstractText'\n",
        "\n",
        "for entry in root.iter('PubmedArticle'):\n",
        "    if entry.find(search_doi) is None:\n",
        "        continue\n",
        "    else:\n",
        "        doi = entry.find(search_doi).text\n",
        "        \n",
        "    if entry.find(search_title) is None:\n",
        "        continue\n",
        "    else:\n",
        "        title = entry.find(search_title).text\n",
        "        \n",
        "    if entry.find(search_abstract) is None:\n",
        "        continue\n",
        "    else:\n",
        "        abstractText = entry.find(search_abstract).text\n",
        "    #print(doi, title)\n",
        "    dict_['doi'].append(doi)\n",
        "    dict_['title'].append(title)\n",
        "    dict_['abstract'].append(abstractText)\n"
      ],
      "metadata": {
        "id": "bHEg2y7UlOdx",
        "colab": {
          "base_uri": "https://localhost:8080/",
          "height": 96
        },
        "outputId": "951ea426-1355-4557-c27e-c96ff42f964f"
      },
      "execution_count": null,
      "outputs": [
        {
          "output_type": "error",
          "ename": "ParseError",
          "evalue": "ignored",
          "traceback": [
            "\u001b[0;36m  File \u001b[0;32m\"<string>\"\u001b[0;36m, line \u001b[0;32munknown\u001b[0m\n\u001b[0;31mParseError\u001b[0m\u001b[0;31m:\u001b[0m not well-formed (invalid token): line 54814, column 105\n"
          ]
        }
      ]
    },
    {
      "cell_type": "code",
      "source": [
        "# format the dict to a table\n",
        "df = pd.DataFrame(dict_, columns=['doi', 'title','abstract'])\n",
        "df.head()"
      ],
      "metadata": {
        "id": "jXU22MWdlQE5"
      },
      "execution_count": null,
      "outputs": []
    },
    {
      "cell_type": "code",
      "source": [
        "# how many papers are left with al the required info?\n",
        "len(df)"
      ],
      "metadata": {
        "id": "70fEvRJylR_g"
      },
      "execution_count": null,
      "outputs": []
    },
    {
      "cell_type": "markdown",
      "source": [
        "## Paper Encoding\n",
        "\n",
        "Here we take the text and identify each token \"word\" and use the spacy model to find the relationships etc."
      ],
      "metadata": {
        "id": "KOf6H35ylTs6"
      }
    },
    {
      "cell_type": "code",
      "source": [
        "#NLP \n",
        "import spacy\n",
        "from spacy.lang.en.stop_words import STOP_WORDS\n",
        "from spacy.lang.en import English\n",
        "# spacy.prefer_gpu() # if you have a GPU do this its so much faster\n",
        "\n",
        "# using scispacy we can add support for scientific abbreviations\n",
        "from scispacy.abbreviation import AbbreviationDetector\n",
        "\n",
        "parser = spacy.load(\"en_core_sci_md\") # scispacy model\n",
        "# Add the abbreviation pipe to the spacy pipeline.\n",
        "parser.add_pipe(\"abbreviation_detector\")\n"
      ],
      "metadata": {
        "id": "mlURjzvBlVUs"
      },
      "execution_count": null,
      "outputs": []
    },
    {
      "cell_type": "code",
      "source": [
        "import string\n",
        "\n",
        "punctuations = string.punctuation\n",
        "stopwords = list(STOP_WORDS)\n",
        "stopwords[:10]"
      ],
      "metadata": {
        "id": "M3OXPnShmG5H"
      },
      "execution_count": null,
      "outputs": []
    },
    {
      "cell_type": "code",
      "source": [
        "# stop words are words that are removed.\n",
        "# as We don't want a cluster per virus, per drug etc but generally paper with novel rna resmuts we add these extra stopwords.\n",
        "custom_stop_words = [\n",
        "    'doi', 'preprint', 'copyright', 'peer', 'reviewed', 'org', 'https', 'et', 'al', 'author', 'figure', \n",
        "    'rights', 'reserved', 'permission', 'used', 'using', 'biorxiv', 'medrxiv', 'license', 'fig', 'fig.', \n",
        "    'al.', 'Elsevier', 'PMC', 'CZI', 'www',\n",
        "    \"Hepatitis C\", \"Herpes\", \"Simplex 1\", \"Simplex 2\", \"Cytomegalovirus\", \"Coronavirus\", \"HCMV\", \"CMV\", \"HSV1\", \"HSV2\", \n",
        "    \"influenza A\", \"(H1N1)\", \"HIV-1\", \"HIV\", \"Hepatitis B\", \"HCV\", \"HBV\",\n",
        "    \"SARS-COV-2\", \"COVID-19\", \"COVID\", \"human immunodeficiency virus\", \"HIV-RNA\", \"subtype\", \"genotype\", \"subtype\",\n",
        "    \"avian influenza\", \"syncytial\", \"polio\", \"poliovirus\", \"chikungunya\"\n",
        "    \n",
        "]\n",
        "\n",
        "for w in custom_stop_words:\n",
        "    if w not in stopwords:\n",
        "        stopwords.append(w)"
      ],
      "metadata": {
        "id": "fST2REdyoXeB"
      },
      "execution_count": null,
      "outputs": []
    },
    {
      "cell_type": "code",
      "source": [
        "# Parser\n",
        "\n",
        "parser.max_length = 7000000\n",
        "\n",
        "def call_tokenizer(df):\n",
        "    df[\"processed_abstract\"] = df[\"abstract\"].apply(spacy_tokenizer)\n",
        "    return df\n",
        "\n",
        "def spacy_tokenizer(sentence):\n",
        "    mytokens = parser(sentence)\n",
        "    mytokens = [ word.lemma_.lower().strip() if word.lemma_ != \"-PRON-\" else word.lower_ for word in mytokens ]\n",
        "    mytokens = [ word for word in mytokens if word not in stopwords and word not in punctuations ]\n",
        "    mytokens = \" \".join([i for i in mytokens])\n",
        "    return mytokens"
      ],
      "metadata": {
        "id": "asuLDvrZoZ69"
      },
      "execution_count": null,
      "outputs": []
    },
    {
      "cell_type": "code",
      "source": [
        "from multiprocessing import  Pool\n",
        "\n",
        "def parallelize_dataframe(df, func, n_cores=4):\n",
        "    df_split = np.array_split(df, n_cores)\n",
        "    pool = Pool(n_cores)\n",
        "    df = pd.concat(pool.map(func, df_split))\n",
        "    pool.close()\n",
        "    pool.join()\n",
        "    return df"
      ],
      "metadata": {
        "id": "BxZsbVRJobQE"
      },
      "execution_count": null,
      "outputs": []
    },
    {
      "cell_type": "code",
      "source": [
        "%%capture --no-stdout\n",
        "# scispacy abbreviation complains each time a abstract has no abbreviations it knows.... stop that warning.\n",
        "# tokenise\n",
        "# single core - single gpu\n",
        "df[\"processed_abstract\"] = df[\"abstract\"].apply(spacy_tokenizer)\n",
        "# many cpu\n",
        "#%time df = parallelize_dataframe(df=df, func=call_tokenizer, n_cores=16)"
      ],
      "metadata": {
        "id": "hdMuOBOoocoP"
      },
      "execution_count": null,
      "outputs": []
    },
    {
      "cell_type": "markdown",
      "source": [
        "### save\n"
      ],
      "metadata": {
        "id": "h6HBAxmpojVt"
      }
    },
    {
      "cell_type": "code",
      "source": [
        "import pickle\n",
        "pickle.dump(df, open(\"tokenised_df.p\", \"wb\" ))"
      ],
      "metadata": {
        "id": "8UeA5J9eokYU"
      },
      "execution_count": null,
      "outputs": []
    },
    {
      "cell_type": "markdown",
      "source": [
        "## paper vectoriser\n"
      ],
      "metadata": {
        "id": "byTecMWholrf"
      }
    },
    {
      "cell_type": "code",
      "source": [
        "df = pickle.load(open(\"tokenised_df.p\", \"rb\"))\n",
        "#df = df.sample(600000)"
      ],
      "metadata": {
        "id": "F5dVfBf8oqWS"
      },
      "execution_count": null,
      "outputs": []
    },
    {
      "cell_type": "code",
      "source": [
        "from sklearn.feature_extraction.text import TfidfVectorizer\n",
        "def vectorize(text, maxx_features):\n",
        "    \n",
        "    vectorizer = TfidfVectorizer(max_features=maxx_features)\n",
        "    X = vectorizer.fit_transform(text)\n",
        "    return X"
      ],
      "metadata": {
        "id": "MpGoI8J4oriI"
      },
      "execution_count": null,
      "outputs": []
    },
    {
      "cell_type": "code",
      "source": [
        "text = df['processed_abstract'].values\n",
        "%time X = vectorize(text, 2 ** 12)\n",
        "X.shape"
      ],
      "metadata": {
        "id": "7pRhw_tsosUe"
      },
      "execution_count": null,
      "outputs": []
    },
    {
      "cell_type": "markdown",
      "source": [
        "##Cluster"
      ],
      "metadata": {
        "id": "PfH-jWGBouNR"
      }
    },
    {
      "cell_type": "code",
      "source": [
        "# as well as x and y space, lets colour each paper by Kmeans clustering\n",
        "from sklearn.cluster import KMeans\n",
        "k = 20\n",
        "kmeans = KMeans(n_clusters=k, random_state=42)\n",
        "%time y_pred = kmeans.fit_predict(X)\n",
        "df['y'] = y_pred"
      ],
      "metadata": {
        "id": "pCryx3W0owvy"
      },
      "execution_count": null,
      "outputs": []
    },
    {
      "cell_type": "markdown",
      "source": [
        "## Plotting"
      ],
      "metadata": {
        "id": "FVrgmd65o03r"
      }
    },
    {
      "cell_type": "code",
      "source": [
        "# reduce dimensions\n",
        "%matplotlib inline\n",
        "from matplotlib import pyplot as plt\n",
        "import seaborn as sns\n",
        "from sklearn.decomposition import PCA\n",
        "\n",
        "pca = PCA(n_components=30, random_state=42)\n",
        "%time X_embedded_pca= pca.fit_transform(X.toarray())\n",
        "X_embedded_pca.shape"
      ],
      "metadata": {
        "id": "JcczXPYMo2ZV"
      },
      "execution_count": null,
      "outputs": []
    },
    {
      "cell_type": "code",
      "source": [
        "# t-sne\n",
        "from sklearn.manifold import TSNE\n",
        "X_embedded_tsne = TSNE(n_components=2, learning_rate='auto',init='random').fit_transform(X_embedded_pca)\n",
        "df['x_tsne'] = X_embedded_tsne[:,0] \n",
        "df['y_tsne'] = X_embedded_tsne[:,1]\n",
        "\n",
        "#from tsnecuda import TSNE\n",
        "#%time X_embedded_tsne = TSNE(n_components=2, learning_rate=30, n_iter=500000, verbose=1).fit_transform(X_embedded_pca)"
      ],
      "metadata": {
        "id": "bjTDR2WZo68G"
      },
      "execution_count": null,
      "outputs": []
    },
    {
      "cell_type": "code",
      "source": [
        "# identify which papers we know are of interest, then make them squares. maybe we need to hide the virus name from the model?\n",
        "key_doi=[\"10.1371/journal.ppat.1009929\",\n",
        "\"10.1128/mBio.00221-18\",\n",
        "\"10.1128/JVI.01965-17\",\n",
        "\"10.1073/pnas.1811345115\",\n",
        "\"10.1093/jac/dku209\",\n",
        "\"10.1128/AAC.01073-16\",\n",
        "\"10.1073/pnas.1232294100\",\n",
        "\"10.1128/JVI.02139-12\",\n",
        "\"10.1016/j.antiviral.2013.07.008\",\n",
        "\"10.1371/journal.ppat.1001163\",\n",
        "\"10.1128/JVI.00289-14\",\n",
        "\"10.1073/pnas.1111650108\",\n",
        "\"10.1128/JVI.79.4.2346-2355.2005\",\n",
        "\"10.1128/JVI.03594-13\",\n",
        "\"10.1128/JVI.01297-08\",\n",
        "\"10.1371/journal.ppat.1003877\",\n",
        "\"10.1128/JVI.01528-14\",\n",
        "        \"10.1128/JVI.00367-19\",\n",
        "        \"10.1128/JVI.00078-16\",\n",
        "        \"10.1016/j.jmii.2017.03.004\",\n",
        "        \"10.1038/ncomms5794\",\n",
        "        \"10.1074/jbc.C112.401471\",\n",
        "        \"10.1099/jgv.0.000316\",\n",
        "        \"10.3791/2953\",\n",
        "        \"10.1099/jgv.0.000682\",\n",
        "        \"10.1371/journal.ppat.1001163\",\n",
        "        \"10.1016/j.bbrc.2013.12.071\",\n",
        "        \"10.1038/nm1726\",\n",
        "        \"10.1371/journal.ppat.1005010\"]\n",
        "df['key'] = df['doi'].isin(key_doi)\n",
        "df[df['doi'].isin(key_doi)]"
      ],
      "metadata": {
        "id": "bSHIBYoIpEGE"
      },
      "execution_count": null,
      "outputs": []
    },
    {
      "cell_type": "code",
      "source": [
        "# we want bokeh to treat y (cluster) as discrete not continuous \n",
        "df['y'] = df['y'].apply(str)\n",
        "df.dtypes"
      ],
      "metadata": {
        "id": "h_ol41opvd_6"
      },
      "execution_count": null,
      "outputs": []
    },
    {
      "cell_type": "code",
      "source": [
        "# make a pretty plot\n",
        "from bokeh.plotting import ColumnDataSource, figure, output_notebook, show, output_file, save\n",
        "from bokeh.palettes import d3\n",
        "import bokeh.models as bmo\n",
        "#output_file(\"toolbar.html\")\n",
        "output_notebook()\n",
        "\n",
        "TOOLTIPS = [\n",
        "    (\"index\", \"$index\"),\n",
        "    (\"(x,y)\", \"($x, $y)\"),\n",
        "    (\"doi\", \"@doi\"),\n",
        "    (\"title\", \"@title\"),\n",
        "]\n",
        "\n",
        "# use whatever palette you want...\n",
        "palette = d3['Category20'][len(df['y'].unique())]\n",
        "color_map = bmo.CategoricalColorMapper(factors=df['y'].unique(),\n",
        "                                   palette=palette)\n",
        "\n",
        "p = figure(width=800, height=800, tooltips=TOOLTIPS,\n",
        "           title=\"Mouse over the dots\")\n",
        "p.scatter('x_tsne', 'y_tsne', size=5, source=df[df['key'] == False], color={'field': 'y', 'transform': color_map})\n",
        "p.scatter('x_tsne', 'y_tsne', size=8, source=df[df['key'] == True], color=\"black\", marker=\"square\")\n",
        "show(p)\n"
      ],
      "metadata": {
        "id": "ocDSSng-pGBL"
      },
      "execution_count": null,
      "outputs": []
    }
  ]
}